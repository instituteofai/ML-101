{
 "cells": [
  {
   "cell_type": "code",
   "execution_count": 1,
   "metadata": {
    "colab": {
     "base_uri": "https://localhost:8080/",
     "height": 275
    },
    "colab_type": "code",
    "id": "n1zRbnp1Q_3a",
    "outputId": "8ac1dd34-2455-4600-d061-2bb78e114048"
   },
   "outputs": [
    {
     "name": "stdout",
     "output_type": "stream",
     "text": [
      "Collecting scikit-learn==0.23\n",
      "  Using cached scikit_learn-0.23.0-cp37-cp37m-macosx_10_9_x86_64.whl (7.4 MB)\n",
      "Requirement already satisfied: scipy>=0.19.1 in /Users/ravimashru/scratch/ml-course-content/venv/lib/python3.7/site-packages (from scikit-learn==0.23) (1.4.1)\n",
      "Requirement already satisfied: threadpoolctl>=2.0.0 in /Users/ravimashru/scratch/ml-course-content/venv/lib/python3.7/site-packages (from scikit-learn==0.23) (2.0.0)\n",
      "Requirement already satisfied: joblib>=0.11 in /Users/ravimashru/scratch/ml-course-content/venv/lib/python3.7/site-packages (from scikit-learn==0.23) (0.15.1)\n",
      "Requirement already satisfied: numpy>=1.13.3 in /Users/ravimashru/scratch/ml-course-content/venv/lib/python3.7/site-packages (from scikit-learn==0.23) (1.18.4)\n",
      "Installing collected packages: scikit-learn\n",
      "  Attempting uninstall: scikit-learn\n",
      "    Found existing installation: scikit-learn 0.23.1\n",
      "    Uninstalling scikit-learn-0.23.1:\n",
      "      Successfully uninstalled scikit-learn-0.23.1\n",
      "Successfully installed scikit-learn-0.23.0\n",
      "0.23.0\n"
     ]
    }
   ],
   "source": [
    "!pip install scikit-learn==0.23\n",
    "import sklearn\n",
    "print(sklearn.__version__)"
   ]
  },
  {
   "cell_type": "code",
   "execution_count": 2,
   "metadata": {
    "colab": {},
    "colab_type": "code",
    "id": "PG8QrWZORIYc"
   },
   "outputs": [],
   "source": [
    "from sklearn import set_config\n",
    "set_config(display='diagram')"
   ]
  },
  {
   "cell_type": "markdown",
   "metadata": {
    "colab_type": "text",
    "id": "khdnL75IkZaO"
   },
   "source": [
    "# Classification\n",
    "\n",
    "Instead of predicting a continuous value, we try to predict discrete values. For example, did a passenger aboard the Titanic survive or not?\n",
    "\n",
    "Data preprocessing techniques for numerical and categorical variables remains the same."
   ]
  },
  {
   "cell_type": "code",
   "execution_count": 3,
   "metadata": {
    "colab": {
     "base_uri": "https://localhost:8080/",
     "height": 204
    },
    "colab_type": "code",
    "id": "TKoJiRPvkAA2",
    "outputId": "30c05c56-b7ad-48ff-d9da-55f7f61b096c"
   },
   "outputs": [
    {
     "data": {
      "text/html": [
       "<div>\n",
       "<style scoped>\n",
       "    .dataframe tbody tr th:only-of-type {\n",
       "        vertical-align: middle;\n",
       "    }\n",
       "\n",
       "    .dataframe tbody tr th {\n",
       "        vertical-align: top;\n",
       "    }\n",
       "\n",
       "    .dataframe thead th {\n",
       "        text-align: right;\n",
       "    }\n",
       "</style>\n",
       "<table border=\"1\" class=\"dataframe\">\n",
       "  <thead>\n",
       "    <tr style=\"text-align: right;\">\n",
       "      <th></th>\n",
       "      <th>PassengerId</th>\n",
       "      <th>Survived</th>\n",
       "      <th>Pclass</th>\n",
       "      <th>Name</th>\n",
       "      <th>Sex</th>\n",
       "      <th>Age</th>\n",
       "      <th>SibSp</th>\n",
       "      <th>Parch</th>\n",
       "      <th>Ticket</th>\n",
       "      <th>Fare</th>\n",
       "      <th>Cabin</th>\n",
       "      <th>Embarked</th>\n",
       "    </tr>\n",
       "  </thead>\n",
       "  <tbody>\n",
       "    <tr>\n",
       "      <th>0</th>\n",
       "      <td>1</td>\n",
       "      <td>0</td>\n",
       "      <td>3</td>\n",
       "      <td>Braund, Mr. Owen Harris</td>\n",
       "      <td>male</td>\n",
       "      <td>22.0</td>\n",
       "      <td>1</td>\n",
       "      <td>0</td>\n",
       "      <td>A/5 21171</td>\n",
       "      <td>7.2500</td>\n",
       "      <td>NaN</td>\n",
       "      <td>S</td>\n",
       "    </tr>\n",
       "    <tr>\n",
       "      <th>1</th>\n",
       "      <td>2</td>\n",
       "      <td>1</td>\n",
       "      <td>1</td>\n",
       "      <td>Cumings, Mrs. John Bradley (Florence Briggs Th...</td>\n",
       "      <td>female</td>\n",
       "      <td>38.0</td>\n",
       "      <td>1</td>\n",
       "      <td>0</td>\n",
       "      <td>PC 17599</td>\n",
       "      <td>71.2833</td>\n",
       "      <td>C85</td>\n",
       "      <td>C</td>\n",
       "    </tr>\n",
       "    <tr>\n",
       "      <th>2</th>\n",
       "      <td>3</td>\n",
       "      <td>1</td>\n",
       "      <td>3</td>\n",
       "      <td>Heikkinen, Miss. Laina</td>\n",
       "      <td>female</td>\n",
       "      <td>26.0</td>\n",
       "      <td>0</td>\n",
       "      <td>0</td>\n",
       "      <td>STON/O2. 3101282</td>\n",
       "      <td>7.9250</td>\n",
       "      <td>NaN</td>\n",
       "      <td>S</td>\n",
       "    </tr>\n",
       "    <tr>\n",
       "      <th>3</th>\n",
       "      <td>4</td>\n",
       "      <td>1</td>\n",
       "      <td>1</td>\n",
       "      <td>Futrelle, Mrs. Jacques Heath (Lily May Peel)</td>\n",
       "      <td>female</td>\n",
       "      <td>35.0</td>\n",
       "      <td>1</td>\n",
       "      <td>0</td>\n",
       "      <td>113803</td>\n",
       "      <td>53.1000</td>\n",
       "      <td>C123</td>\n",
       "      <td>S</td>\n",
       "    </tr>\n",
       "    <tr>\n",
       "      <th>4</th>\n",
       "      <td>5</td>\n",
       "      <td>0</td>\n",
       "      <td>3</td>\n",
       "      <td>Allen, Mr. William Henry</td>\n",
       "      <td>male</td>\n",
       "      <td>35.0</td>\n",
       "      <td>0</td>\n",
       "      <td>0</td>\n",
       "      <td>373450</td>\n",
       "      <td>8.0500</td>\n",
       "      <td>NaN</td>\n",
       "      <td>S</td>\n",
       "    </tr>\n",
       "  </tbody>\n",
       "</table>\n",
       "</div>"
      ],
      "text/plain": [
       "   PassengerId  Survived  Pclass  \\\n",
       "0            1         0       3   \n",
       "1            2         1       1   \n",
       "2            3         1       3   \n",
       "3            4         1       1   \n",
       "4            5         0       3   \n",
       "\n",
       "                                                Name     Sex   Age  SibSp  \\\n",
       "0                            Braund, Mr. Owen Harris    male  22.0      1   \n",
       "1  Cumings, Mrs. John Bradley (Florence Briggs Th...  female  38.0      1   \n",
       "2                             Heikkinen, Miss. Laina  female  26.0      0   \n",
       "3       Futrelle, Mrs. Jacques Heath (Lily May Peel)  female  35.0      1   \n",
       "4                           Allen, Mr. William Henry    male  35.0      0   \n",
       "\n",
       "   Parch            Ticket     Fare Cabin Embarked  \n",
       "0      0         A/5 21171   7.2500   NaN        S  \n",
       "1      0          PC 17599  71.2833   C85        C  \n",
       "2      0  STON/O2. 3101282   7.9250   NaN        S  \n",
       "3      0            113803  53.1000  C123        S  \n",
       "4      0            373450   8.0500   NaN        S  "
      ]
     },
     "execution_count": 3,
     "metadata": {},
     "output_type": "execute_result"
    }
   ],
   "source": [
    "import pandas as pd\n",
    "df = pd.read_csv('https://raw.githubusercontent.com/instituteofai/ML-101/master/Datasets/titanic_train.csv')\n",
    "df.head()"
   ]
  },
  {
   "cell_type": "code",
   "execution_count": 4,
   "metadata": {
    "colab": {
     "base_uri": "https://localhost:8080/",
     "height": 34
    },
    "colab_type": "code",
    "id": "kt51Y1jfm5u3",
    "outputId": "128f0dd7-03a0-440b-f287-15de5ae18bf3"
   },
   "outputs": [
    {
     "data": {
      "text/plain": [
       "(891, 12)"
      ]
     },
     "execution_count": 4,
     "metadata": {},
     "output_type": "execute_result"
    }
   ],
   "source": [
    "df.shape"
   ]
  },
  {
   "cell_type": "code",
   "execution_count": 5,
   "metadata": {
    "colab": {
     "base_uri": "https://localhost:8080/",
     "height": 340
    },
    "colab_type": "code",
    "id": "H6KJrGEzmxQh",
    "outputId": "05959dea-fc1f-496a-ad9c-11222905838e"
   },
   "outputs": [
    {
     "name": "stdout",
     "output_type": "stream",
     "text": [
      "<class 'pandas.core.frame.DataFrame'>\n",
      "RangeIndex: 891 entries, 0 to 890\n",
      "Data columns (total 12 columns):\n",
      " #   Column       Non-Null Count  Dtype  \n",
      "---  ------       --------------  -----  \n",
      " 0   PassengerId  891 non-null    int64  \n",
      " 1   Survived     891 non-null    int64  \n",
      " 2   Pclass       891 non-null    int64  \n",
      " 3   Name         891 non-null    object \n",
      " 4   Sex          891 non-null    object \n",
      " 5   Age          714 non-null    float64\n",
      " 6   SibSp        891 non-null    int64  \n",
      " 7   Parch        891 non-null    int64  \n",
      " 8   Ticket       891 non-null    object \n",
      " 9   Fare         891 non-null    float64\n",
      " 10  Cabin        204 non-null    object \n",
      " 11  Embarked     889 non-null    object \n",
      "dtypes: float64(2), int64(5), object(5)\n",
      "memory usage: 83.7+ KB\n"
     ]
    }
   ],
   "source": [
    "df.info()"
   ]
  },
  {
   "cell_type": "markdown",
   "metadata": {
    "colab_type": "text",
    "id": "GDPGPSUzp6TZ"
   },
   "source": [
    "Select feature and label columns"
   ]
  },
  {
   "cell_type": "code",
   "execution_count": 6,
   "metadata": {
    "colab": {
     "base_uri": "https://localhost:8080/",
     "height": 221
    },
    "colab_type": "code",
    "id": "vYX80MpjqAsA",
    "outputId": "e1765576-166d-40ad-aef0-7000fe951278"
   },
   "outputs": [
    {
     "name": "stdout",
     "output_type": "stream",
     "text": [
      "   Pclass     Sex   Age  SibSp  Parch            Ticket     Fare Cabin  \\\n",
      "0       3    male  22.0      1      0         A/5 21171   7.2500   NaN   \n",
      "1       1  female  38.0      1      0          PC 17599  71.2833   C85   \n",
      "2       3  female  26.0      0      0  STON/O2. 3101282   7.9250   NaN   \n",
      "3       1  female  35.0      1      0            113803  53.1000  C123   \n",
      "4       3    male  35.0      0      0            373450   8.0500   NaN   \n",
      "\n",
      "  Embarked  \n",
      "0        S  \n",
      "1        C  \n",
      "2        S  \n",
      "3        S  \n",
      "4        S  \n",
      "   Survived\n",
      "0         0\n",
      "1         1\n",
      "2         1\n",
      "3         1\n",
      "4         0\n"
     ]
    }
   ],
   "source": [
    "features = df.drop(['PassengerId', 'Survived', 'Name'], axis=1)\n",
    "labels = df[['Survived']]\n",
    "\n",
    "print(features.head())\n",
    "print(labels.head())"
   ]
  },
  {
   "cell_type": "markdown",
   "metadata": {
    "colab_type": "text",
    "id": "bTV1p5vknEdi"
   },
   "source": [
    "## Types of classification\n",
    " - Binary classification (this problem)\n",
    " - Multiclass classification (The season - summer, winter, monsoon, spring)\n",
    " - Multilabel classification (Genres of a movie on Netflix - comedy, action, thriller, romance, sci-fi, etc.)\n",
    "\n",
    "\n",
    "## Building a baseline model\n",
    "Missing values and imputation strategies:\n",
    " - Age: replace missing values with mean age\n",
    " - Cabin: replace missing values with \"Other\"\n",
    " - Embarked: replace missing values with \"X\""
   ]
  },
  {
   "cell_type": "code",
   "execution_count": 7,
   "metadata": {
    "colab": {},
    "colab_type": "code",
    "id": "TE37DIkXm2vM"
   },
   "outputs": [],
   "source": [
    "from sklearn.impute import SimpleImputer\n",
    "\n",
    "age_imputer = SimpleImputer(strategy='mean')\n",
    "cabin_imputer = SimpleImputer(strategy='constant', fill_value='OTHER')\n",
    "embarked_imputer = SimpleImputer(strategy='constant', fill_value='X')"
   ]
  },
  {
   "cell_type": "markdown",
   "metadata": {
    "colab_type": "text",
    "id": "RKr3q--Or5xM"
   },
   "source": [
    "Create pipelines and transformers for preprocessing numerical and categorical variables."
   ]
  },
  {
   "cell_type": "code",
   "execution_count": 8,
   "metadata": {
    "colab": {},
    "colab_type": "code",
    "id": "DeV8dkd21lCq"
   },
   "outputs": [],
   "source": [
    "from sklearn.compose import make_column_transformer\n",
    "from sklearn.pipeline import make_pipeline\n",
    "from sklearn.preprocessing import OneHotEncoder, StandardScaler\n",
    "\n",
    "categorical_columns = [\n",
    "  'Pclass', 'Sex', 'SibSp', 'Parch',\n",
    "  'Ticket', 'Cabin', 'Embarked'\n",
    "]\n",
    "\n",
    "numerical_columns = ['Age', 'Fare']\n",
    "\n",
    "preprocessing_pipeline = make_column_transformer(\n",
    "  (\n",
    "    make_pipeline(\n",
    "      make_column_transformer((age_imputer, ['Age']), remainder='passthrough'),\n",
    "      StandardScaler()\n",
    "    ),\n",
    "    numerical_columns\n",
    "  ),\n",
    "  (\n",
    "    make_pipeline(\n",
    "      make_column_transformer(\n",
    "          (cabin_imputer, ['Cabin']),\n",
    "          (embarked_imputer, ['Embarked']),\n",
    "          remainder='passthrough'),\n",
    "      OneHotEncoder(handle_unknown='ignore')\n",
    "    ),\n",
    "    categorical_columns\n",
    "  ),\n",
    "  sparse_threshold=0\n",
    ")"
   ]
  },
  {
   "cell_type": "markdown",
   "metadata": {
    "colab_type": "text",
    "id": "5czDB-m2tbjc"
   },
   "source": [
    "Create a pipeline with a classifier at the end."
   ]
  },
  {
   "cell_type": "code",
   "execution_count": 59,
   "metadata": {
    "colab": {},
    "colab_type": "code",
    "id": "vwmKLMDtqzm4"
   },
   "outputs": [],
   "source": [
    "from sklearn.pipeline import Pipeline\n",
    "# from sklearn.naive_bayes import GaussianNB\n",
    "# from sklearn.tree import DecisionTreeClassifier\n",
    "# from sklearn.ensemble import RandomForestClassifier\n",
    "from sklearn.neighbors import KNeighborsClassifier\n",
    "# from sklearn.svm import SVC\n",
    "# from sklearn.linear_model import LogisticRegression\n",
    "\n",
    "model_pipeline = Pipeline([\n",
    "  ('preprocessing', preprocessing_pipeline),\n",
    "  ('model', KNeighborsClassifier())\n",
    "])"
   ]
  },
  {
   "cell_type": "code",
   "execution_count": 60,
   "metadata": {},
   "outputs": [
    {
     "data": {
      "text/html": [
       "<style>div.sk-top-container {color: black;background-color: white;}div.sk-toggleable {background-color: white;}label.sk-toggleable__label {cursor: pointer;display: block;width: 100%;margin-bottom: 0;padding: 0.2em 0.3em;box-sizing: border-box;text-align: center;}div.sk-toggleable__content {max-height: 0;max-width: 0;overflow: hidden;text-align: left;background-color: #f0f8ff;}div.sk-toggleable__content pre {margin: 0.2em;color: black;border-radius: 0.25em;background-color: #f0f8ff;}input.sk-toggleable__control:checked~div.sk-toggleable__content {max-height: 200px;max-width: 100%;overflow: auto;}div.sk-estimator input.sk-toggleable__control:checked~label.sk-toggleable__label {background-color: #d4ebff;}div.sk-label input.sk-toggleable__control:checked~label.sk-toggleable__label {background-color: #d4ebff;}input.sk-hidden--visually {border: 0;clip: rect(1px 1px 1px 1px);clip: rect(1px, 1px, 1px, 1px);height: 1px;margin: -1px;overflow: hidden;padding: 0;position: absolute;width: 1px;}div.sk-estimator {font-family: monospace;background-color: #f0f8ff;margin: 0.25em 0.25em;border: 1px dotted black;border-radius: 0.25em;box-sizing: border-box;}div.sk-estimator:hover {background-color: #d4ebff;}div.sk-parallel-item::after {content: \"\";width: 100%;border-bottom: 1px solid gray;flex-grow: 1;}div.sk-label:hover label.sk-toggleable__label {background-color: #d4ebff;}div.sk-serial::before {content: \"\";position: absolute;border-left: 1px solid gray;box-sizing: border-box;top: 2em;bottom: 0;left: 50%;}div.sk-serial {display: flex;flex-direction: column;align-items: center;background-color: white;}div.sk-item {z-index: 1;}div.sk-parallel {display: flex;align-items: stretch;justify-content: center;background-color: white;}div.sk-parallel-item {display: flex;flex-direction: column;position: relative;background-color: white;}div.sk-parallel-item:first-child::after {align-self: flex-end;width: 50%;}div.sk-parallel-item:last-child::after {align-self: flex-start;width: 50%;}div.sk-parallel-item:only-child::after {width: 0;}div.sk-dashed-wrapped {border: 1px dashed gray;margin: 0.2em;box-sizing: border-box;padding-bottom: 0.1em;background-color: white;position: relative;}div.sk-label label {font-family: monospace;font-weight: bold;background-color: white;display: inline-block;line-height: 1.2em;}div.sk-label-container {position: relative;z-index: 2;text-align: center;}div.sk-container {display: inline-block;position: relative;}</style><div class=\"sk-top-container\"><div class=\"sk-container\"><div class=\"sk-item sk-dashed-wrapped\"><div class=\"sk-label-container\"><div class=\"sk-label sk-toggleable\"><input class=\"sk-toggleable__control sk-hidden--visually\" id=\"51a7ed0e-688e-4e25-a0ef-4902817e6e58\" type=\"checkbox\" ><label class=\"sk-toggleable__label\" for=\"51a7ed0e-688e-4e25-a0ef-4902817e6e58\">Pipeline</label><div class=\"sk-toggleable__content\"><pre>Pipeline(steps=[('preprocessing',\n",
       "                 ColumnTransformer(sparse_threshold=0,\n",
       "                                   transformers=[('pipeline-1',\n",
       "                                                  Pipeline(steps=[('columntransformer',\n",
       "                                                                   ColumnTransformer(remainder='passthrough',\n",
       "                                                                                     transformers=[('simpleimputer',\n",
       "                                                                                                    SimpleImputer(),\n",
       "                                                                                                    ['Age'])])),\n",
       "                                                                  ('standardscaler',\n",
       "                                                                   StandardScaler())]),\n",
       "                                                  ['Age', 'Fare']),\n",
       "                                                 ('pipeline-2',\n",
       "                                                  Pipeline(steps=[('columntransformer',\n",
       "                                                                   ColumnTra...hrough',\n",
       "                                                                                     transformers=[('simpleimputer-1',\n",
       "                                                                                                    SimpleImputer(fill_value='OTHER',\n",
       "                                                                                                                  strategy='constant'),\n",
       "                                                                                                    ['Cabin']),\n",
       "                                                                                                   ('simpleimputer-2',\n",
       "                                                                                                    SimpleImputer(fill_value='X',\n",
       "                                                                                                                  strategy='constant'),\n",
       "                                                                                                    ['Embarked'])])),\n",
       "                                                                  ('onehotencoder',\n",
       "                                                                   OneHotEncoder(handle_unknown='ignore'))]),\n",
       "                                                  ['Pclass', 'Sex', 'SibSp',\n",
       "                                                   'Parch', 'Ticket', 'Cabin',\n",
       "                                                   'Embarked'])])),\n",
       "                ('model', KNeighborsClassifier())])</pre></div></div></div><div class=\"sk-serial\"><div class=\"sk-item sk-dashed-wrapped\"><div class=\"sk-label-container\"><div class=\"sk-label sk-toggleable\"><input class=\"sk-toggleable__control sk-hidden--visually\" id=\"0cb55a0a-9b96-4d42-9db2-657c8d94be45\" type=\"checkbox\" ><label class=\"sk-toggleable__label\" for=\"0cb55a0a-9b96-4d42-9db2-657c8d94be45\">preprocessing: ColumnTransformer</label><div class=\"sk-toggleable__content\"><pre>ColumnTransformer(sparse_threshold=0,\n",
       "                  transformers=[('pipeline-1',\n",
       "                                 Pipeline(steps=[('columntransformer',\n",
       "                                                  ColumnTransformer(remainder='passthrough',\n",
       "                                                                    transformers=[('simpleimputer',\n",
       "                                                                                   SimpleImputer(),\n",
       "                                                                                   ['Age'])])),\n",
       "                                                 ('standardscaler',\n",
       "                                                  StandardScaler())]),\n",
       "                                 ['Age', 'Fare']),\n",
       "                                ('pipeline-2',\n",
       "                                 Pipeline(steps=[('columntransformer',\n",
       "                                                  ColumnTransformer(remainder='passthrough',\n",
       "                                                                    transformers=[('simpleimputer-1',\n",
       "                                                                                   SimpleImputer(fill_value='OTHER',\n",
       "                                                                                                 strategy='constant'),\n",
       "                                                                                   ['Cabin']),\n",
       "                                                                                  ('simpleimputer-2',\n",
       "                                                                                   SimpleImputer(fill_value='X',\n",
       "                                                                                                 strategy='constant'),\n",
       "                                                                                   ['Embarked'])])),\n",
       "                                                 ('onehotencoder',\n",
       "                                                  OneHotEncoder(handle_unknown='ignore'))]),\n",
       "                                 ['Pclass', 'Sex', 'SibSp', 'Parch', 'Ticket',\n",
       "                                  'Cabin', 'Embarked'])])</pre></div></div></div><div class=\"sk-parallel\"><div class=\"sk-parallel-item\"><div class=\"sk-item\"><div class=\"sk-label-container\"><div class=\"sk-label sk-toggleable\"><input class=\"sk-toggleable__control sk-hidden--visually\" id=\"a2736b48-c807-4482-abe3-7e53e4243e94\" type=\"checkbox\" ><label class=\"sk-toggleable__label\" for=\"a2736b48-c807-4482-abe3-7e53e4243e94\">pipeline-1</label><div class=\"sk-toggleable__content\"><pre>['Age', 'Fare']</pre></div></div></div><div class=\"sk-serial\"><div class=\"sk-item\"><div class=\"sk-serial\"><div class=\"sk-item sk-dashed-wrapped\"><div class=\"sk-label-container\"><div class=\"sk-label sk-toggleable\"><input class=\"sk-toggleable__control sk-hidden--visually\" id=\"ba8cdf62-b275-4bf5-93ef-a9ad3d032f6d\" type=\"checkbox\" ><label class=\"sk-toggleable__label\" for=\"ba8cdf62-b275-4bf5-93ef-a9ad3d032f6d\">columntransformer: ColumnTransformer</label><div class=\"sk-toggleable__content\"><pre>ColumnTransformer(remainder='passthrough',\n",
       "                  transformers=[('simpleimputer', SimpleImputer(), ['Age'])])</pre></div></div></div><div class=\"sk-parallel\"><div class=\"sk-parallel-item\"><div class=\"sk-item\"><div class=\"sk-label-container\"><div class=\"sk-label sk-toggleable\"><input class=\"sk-toggleable__control sk-hidden--visually\" id=\"3d6c04c0-2df3-42c3-9e92-922993952d54\" type=\"checkbox\" ><label class=\"sk-toggleable__label\" for=\"3d6c04c0-2df3-42c3-9e92-922993952d54\">simpleimputer</label><div class=\"sk-toggleable__content\"><pre>['Age']</pre></div></div></div><div class=\"sk-serial\"><div class=\"sk-item\"><div class=\"sk-estimator sk-toggleable\"><input class=\"sk-toggleable__control sk-hidden--visually\" id=\"fc656293-5a6a-4dfe-86a0-931c264c5e00\" type=\"checkbox\" ><label class=\"sk-toggleable__label\" for=\"fc656293-5a6a-4dfe-86a0-931c264c5e00\">SimpleImputer</label><div class=\"sk-toggleable__content\"><pre>SimpleImputer()</pre></div></div></div></div></div></div></div></div><div class=\"sk-item\"><div class=\"sk-estimator sk-toggleable\"><input class=\"sk-toggleable__control sk-hidden--visually\" id=\"eb0806a7-98c3-470a-9ad0-8f20d6974377\" type=\"checkbox\" ><label class=\"sk-toggleable__label\" for=\"eb0806a7-98c3-470a-9ad0-8f20d6974377\">StandardScaler</label><div class=\"sk-toggleable__content\"><pre>StandardScaler()</pre></div></div></div></div></div></div></div></div><div class=\"sk-parallel-item\"><div class=\"sk-item\"><div class=\"sk-label-container\"><div class=\"sk-label sk-toggleable\"><input class=\"sk-toggleable__control sk-hidden--visually\" id=\"994241da-8d50-4764-861d-72f1b7a912ac\" type=\"checkbox\" ><label class=\"sk-toggleable__label\" for=\"994241da-8d50-4764-861d-72f1b7a912ac\">pipeline-2</label><div class=\"sk-toggleable__content\"><pre>['Pclass', 'Sex', 'SibSp', 'Parch', 'Ticket', 'Cabin', 'Embarked']</pre></div></div></div><div class=\"sk-serial\"><div class=\"sk-item\"><div class=\"sk-serial\"><div class=\"sk-item sk-dashed-wrapped\"><div class=\"sk-label-container\"><div class=\"sk-label sk-toggleable\"><input class=\"sk-toggleable__control sk-hidden--visually\" id=\"0718afa4-9ed8-472a-bd24-a444b11599db\" type=\"checkbox\" ><label class=\"sk-toggleable__label\" for=\"0718afa4-9ed8-472a-bd24-a444b11599db\">columntransformer: ColumnTransformer</label><div class=\"sk-toggleable__content\"><pre>ColumnTransformer(remainder='passthrough',\n",
       "                  transformers=[('simpleimputer-1',\n",
       "                                 SimpleImputer(fill_value='OTHER',\n",
       "                                               strategy='constant'),\n",
       "                                 ['Cabin']),\n",
       "                                ('simpleimputer-2',\n",
       "                                 SimpleImputer(fill_value='X',\n",
       "                                               strategy='constant'),\n",
       "                                 ['Embarked'])])</pre></div></div></div><div class=\"sk-parallel\"><div class=\"sk-parallel-item\"><div class=\"sk-item\"><div class=\"sk-label-container\"><div class=\"sk-label sk-toggleable\"><input class=\"sk-toggleable__control sk-hidden--visually\" id=\"08e0012d-09c2-46d2-b698-11cbb4c5f923\" type=\"checkbox\" ><label class=\"sk-toggleable__label\" for=\"08e0012d-09c2-46d2-b698-11cbb4c5f923\">simpleimputer-1</label><div class=\"sk-toggleable__content\"><pre>['Cabin']</pre></div></div></div><div class=\"sk-serial\"><div class=\"sk-item\"><div class=\"sk-estimator sk-toggleable\"><input class=\"sk-toggleable__control sk-hidden--visually\" id=\"8b4f0e1c-30fc-49d1-9d8a-96f1ceb34d55\" type=\"checkbox\" ><label class=\"sk-toggleable__label\" for=\"8b4f0e1c-30fc-49d1-9d8a-96f1ceb34d55\">SimpleImputer</label><div class=\"sk-toggleable__content\"><pre>SimpleImputer(fill_value='OTHER', strategy='constant')</pre></div></div></div></div></div></div><div class=\"sk-parallel-item\"><div class=\"sk-item\"><div class=\"sk-label-container\"><div class=\"sk-label sk-toggleable\"><input class=\"sk-toggleable__control sk-hidden--visually\" id=\"30022b70-cdad-456f-a414-0dcd2ed3140a\" type=\"checkbox\" ><label class=\"sk-toggleable__label\" for=\"30022b70-cdad-456f-a414-0dcd2ed3140a\">simpleimputer-2</label><div class=\"sk-toggleable__content\"><pre>['Embarked']</pre></div></div></div><div class=\"sk-serial\"><div class=\"sk-item\"><div class=\"sk-estimator sk-toggleable\"><input class=\"sk-toggleable__control sk-hidden--visually\" id=\"a73987d3-893d-49fe-b292-5882163c948d\" type=\"checkbox\" ><label class=\"sk-toggleable__label\" for=\"a73987d3-893d-49fe-b292-5882163c948d\">SimpleImputer</label><div class=\"sk-toggleable__content\"><pre>SimpleImputer(fill_value='X', strategy='constant')</pre></div></div></div></div></div></div></div></div><div class=\"sk-item\"><div class=\"sk-estimator sk-toggleable\"><input class=\"sk-toggleable__control sk-hidden--visually\" id=\"bf783562-40b8-4461-aade-ee6335b9fb16\" type=\"checkbox\" ><label class=\"sk-toggleable__label\" for=\"bf783562-40b8-4461-aade-ee6335b9fb16\">OneHotEncoder</label><div class=\"sk-toggleable__content\"><pre>OneHotEncoder(handle_unknown='ignore')</pre></div></div></div></div></div></div></div></div></div></div><div class=\"sk-item\"><div class=\"sk-estimator sk-toggleable\"><input class=\"sk-toggleable__control sk-hidden--visually\" id=\"092fbd88-3726-4e81-bca6-71714e220104\" type=\"checkbox\" ><label class=\"sk-toggleable__label\" for=\"092fbd88-3726-4e81-bca6-71714e220104\">KNeighborsClassifier</label><div class=\"sk-toggleable__content\"><pre>KNeighborsClassifier()</pre></div></div></div></div></div></div></div>"
      ],
      "text/plain": [
       "Pipeline(steps=[('preprocessing',\n",
       "                 ColumnTransformer(sparse_threshold=0,\n",
       "                                   transformers=[('pipeline-1',\n",
       "                                                  Pipeline(steps=[('columntransformer',\n",
       "                                                                   ColumnTransformer(remainder='passthrough',\n",
       "                                                                                     transformers=[('simpleimputer',\n",
       "                                                                                                    SimpleImputer(),\n",
       "                                                                                                    ['Age'])])),\n",
       "                                                                  ('standardscaler',\n",
       "                                                                   StandardScaler())]),\n",
       "                                                  ['Age', 'Fare']),\n",
       "                                                 ('pipeline-2',\n",
       "                                                  Pipeline(steps=[('columntransformer',\n",
       "                                                                   ColumnTra...hrough',\n",
       "                                                                                     transformers=[('simpleimputer-1',\n",
       "                                                                                                    SimpleImputer(fill_value='OTHER',\n",
       "                                                                                                                  strategy='constant'),\n",
       "                                                                                                    ['Cabin']),\n",
       "                                                                                                   ('simpleimputer-2',\n",
       "                                                                                                    SimpleImputer(fill_value='X',\n",
       "                                                                                                                  strategy='constant'),\n",
       "                                                                                                    ['Embarked'])])),\n",
       "                                                                  ('onehotencoder',\n",
       "                                                                   OneHotEncoder(handle_unknown='ignore'))]),\n",
       "                                                  ['Pclass', 'Sex', 'SibSp',\n",
       "                                                   'Parch', 'Ticket', 'Cabin',\n",
       "                                                   'Embarked'])])),\n",
       "                ('model', KNeighborsClassifier())])"
      ]
     },
     "execution_count": 60,
     "metadata": {},
     "output_type": "execute_result"
    }
   ],
   "source": [
    "model_pipeline"
   ]
  },
  {
   "cell_type": "code",
   "execution_count": 61,
   "metadata": {},
   "outputs": [
    {
     "data": {
      "text/plain": [
       "{'algorithm': 'auto',\n",
       " 'leaf_size': 30,\n",
       " 'metric': 'minkowski',\n",
       " 'metric_params': None,\n",
       " 'n_jobs': None,\n",
       " 'n_neighbors': 5,\n",
       " 'p': 2,\n",
       " 'weights': 'uniform'}"
      ]
     },
     "execution_count": 61,
     "metadata": {},
     "output_type": "execute_result"
    }
   ],
   "source": [
    "KNeighborsClassifier().get_params()"
   ]
  },
  {
   "cell_type": "markdown",
   "metadata": {
    "colab_type": "text",
    "id": "-qqGGuLCvDui"
   },
   "source": [
    "Train/test split."
   ]
  },
  {
   "cell_type": "code",
   "execution_count": 11,
   "metadata": {
    "colab": {},
    "colab_type": "code",
    "id": "RSWfwhnZvCer"
   },
   "outputs": [],
   "source": [
    "from sklearn.model_selection import train_test_split\n",
    "\n",
    "X_train, X_test, y_train, y_test = train_test_split(features, labels, test_size=0.2, random_state=42)"
   ]
  },
  {
   "cell_type": "markdown",
   "metadata": {
    "colab_type": "text",
    "id": "pX96YoMQwOSZ"
   },
   "source": [
    "Train model and check accuracy on test set."
   ]
  },
  {
   "cell_type": "code",
   "execution_count": 66,
   "metadata": {
    "colab": {
     "base_uri": "https://localhost:8080/",
     "height": 303
    },
    "colab_type": "code",
    "id": "Aa5zghmMwLtR",
    "outputId": "67171301-4e44-4af1-9939-25a2e53ad285"
   },
   "outputs": [
    {
     "data": {
      "text/html": [
       "<style>div.sk-top-container {color: black;background-color: white;}div.sk-toggleable {background-color: white;}label.sk-toggleable__label {cursor: pointer;display: block;width: 100%;margin-bottom: 0;padding: 0.2em 0.3em;box-sizing: border-box;text-align: center;}div.sk-toggleable__content {max-height: 0;max-width: 0;overflow: hidden;text-align: left;background-color: #f0f8ff;}div.sk-toggleable__content pre {margin: 0.2em;color: black;border-radius: 0.25em;background-color: #f0f8ff;}input.sk-toggleable__control:checked~div.sk-toggleable__content {max-height: 200px;max-width: 100%;overflow: auto;}div.sk-estimator input.sk-toggleable__control:checked~label.sk-toggleable__label {background-color: #d4ebff;}div.sk-label input.sk-toggleable__control:checked~label.sk-toggleable__label {background-color: #d4ebff;}input.sk-hidden--visually {border: 0;clip: rect(1px 1px 1px 1px);clip: rect(1px, 1px, 1px, 1px);height: 1px;margin: -1px;overflow: hidden;padding: 0;position: absolute;width: 1px;}div.sk-estimator {font-family: monospace;background-color: #f0f8ff;margin: 0.25em 0.25em;border: 1px dotted black;border-radius: 0.25em;box-sizing: border-box;}div.sk-estimator:hover {background-color: #d4ebff;}div.sk-parallel-item::after {content: \"\";width: 100%;border-bottom: 1px solid gray;flex-grow: 1;}div.sk-label:hover label.sk-toggleable__label {background-color: #d4ebff;}div.sk-serial::before {content: \"\";position: absolute;border-left: 1px solid gray;box-sizing: border-box;top: 2em;bottom: 0;left: 50%;}div.sk-serial {display: flex;flex-direction: column;align-items: center;background-color: white;}div.sk-item {z-index: 1;}div.sk-parallel {display: flex;align-items: stretch;justify-content: center;background-color: white;}div.sk-parallel-item {display: flex;flex-direction: column;position: relative;background-color: white;}div.sk-parallel-item:first-child::after {align-self: flex-end;width: 50%;}div.sk-parallel-item:last-child::after {align-self: flex-start;width: 50%;}div.sk-parallel-item:only-child::after {width: 0;}div.sk-dashed-wrapped {border: 1px dashed gray;margin: 0.2em;box-sizing: border-box;padding-bottom: 0.1em;background-color: white;position: relative;}div.sk-label label {font-family: monospace;font-weight: bold;background-color: white;display: inline-block;line-height: 1.2em;}div.sk-label-container {position: relative;z-index: 2;text-align: center;}div.sk-container {display: inline-block;position: relative;}</style><div class=\"sk-top-container\"><div class=\"sk-container\"><div class=\"sk-item sk-dashed-wrapped\"><div class=\"sk-label-container\"><div class=\"sk-label sk-toggleable\"><input class=\"sk-toggleable__control sk-hidden--visually\" id=\"ae4bed79-c960-4e76-b4cb-c788995ce04e\" type=\"checkbox\" ><label class=\"sk-toggleable__label\" for=\"ae4bed79-c960-4e76-b4cb-c788995ce04e\">Pipeline</label><div class=\"sk-toggleable__content\"><pre>Pipeline(steps=[('preprocessing',\n",
       "                 ColumnTransformer(sparse_threshold=0,\n",
       "                                   transformers=[('pipeline-1',\n",
       "                                                  Pipeline(steps=[('columntransformer',\n",
       "                                                                   ColumnTransformer(remainder='passthrough',\n",
       "                                                                                     transformers=[('simpleimputer',\n",
       "                                                                                                    SimpleImputer(),\n",
       "                                                                                                    ['Age'])])),\n",
       "                                                                  ('standardscaler',\n",
       "                                                                   StandardScaler())]),\n",
       "                                                  ['Age', 'Fare']),\n",
       "                                                 ('pipeline-2',\n",
       "                                                  Pipeline(steps=[('columntransformer',\n",
       "                                                                   ColumnTra...hrough',\n",
       "                                                                                     transformers=[('simpleimputer-1',\n",
       "                                                                                                    SimpleImputer(fill_value='OTHER',\n",
       "                                                                                                                  strategy='constant'),\n",
       "                                                                                                    ['Cabin']),\n",
       "                                                                                                   ('simpleimputer-2',\n",
       "                                                                                                    SimpleImputer(fill_value='X',\n",
       "                                                                                                                  strategy='constant'),\n",
       "                                                                                                    ['Embarked'])])),\n",
       "                                                                  ('onehotencoder',\n",
       "                                                                   OneHotEncoder(handle_unknown='ignore'))]),\n",
       "                                                  ['Pclass', 'Sex', 'SibSp',\n",
       "                                                   'Parch', 'Ticket', 'Cabin',\n",
       "                                                   'Embarked'])])),\n",
       "                ('model', KNeighborsClassifier())])</pre></div></div></div><div class=\"sk-serial\"><div class=\"sk-item sk-dashed-wrapped\"><div class=\"sk-label-container\"><div class=\"sk-label sk-toggleable\"><input class=\"sk-toggleable__control sk-hidden--visually\" id=\"0f9a4cfd-bfda-401b-b2f0-1e0e86c4f10b\" type=\"checkbox\" ><label class=\"sk-toggleable__label\" for=\"0f9a4cfd-bfda-401b-b2f0-1e0e86c4f10b\">preprocessing: ColumnTransformer</label><div class=\"sk-toggleable__content\"><pre>ColumnTransformer(sparse_threshold=0,\n",
       "                  transformers=[('pipeline-1',\n",
       "                                 Pipeline(steps=[('columntransformer',\n",
       "                                                  ColumnTransformer(remainder='passthrough',\n",
       "                                                                    transformers=[('simpleimputer',\n",
       "                                                                                   SimpleImputer(),\n",
       "                                                                                   ['Age'])])),\n",
       "                                                 ('standardscaler',\n",
       "                                                  StandardScaler())]),\n",
       "                                 ['Age', 'Fare']),\n",
       "                                ('pipeline-2',\n",
       "                                 Pipeline(steps=[('columntransformer',\n",
       "                                                  ColumnTransformer(remainder='passthrough',\n",
       "                                                                    transformers=[('simpleimputer-1',\n",
       "                                                                                   SimpleImputer(fill_value='OTHER',\n",
       "                                                                                                 strategy='constant'),\n",
       "                                                                                   ['Cabin']),\n",
       "                                                                                  ('simpleimputer-2',\n",
       "                                                                                   SimpleImputer(fill_value='X',\n",
       "                                                                                                 strategy='constant'),\n",
       "                                                                                   ['Embarked'])])),\n",
       "                                                 ('onehotencoder',\n",
       "                                                  OneHotEncoder(handle_unknown='ignore'))]),\n",
       "                                 ['Pclass', 'Sex', 'SibSp', 'Parch', 'Ticket',\n",
       "                                  'Cabin', 'Embarked'])])</pre></div></div></div><div class=\"sk-parallel\"><div class=\"sk-parallel-item\"><div class=\"sk-item\"><div class=\"sk-label-container\"><div class=\"sk-label sk-toggleable\"><input class=\"sk-toggleable__control sk-hidden--visually\" id=\"5bad285b-2bdf-4879-84d0-0a5ddd20c5b9\" type=\"checkbox\" ><label class=\"sk-toggleable__label\" for=\"5bad285b-2bdf-4879-84d0-0a5ddd20c5b9\">pipeline-1</label><div class=\"sk-toggleable__content\"><pre>['Age', 'Fare']</pre></div></div></div><div class=\"sk-serial\"><div class=\"sk-item\"><div class=\"sk-serial\"><div class=\"sk-item sk-dashed-wrapped\"><div class=\"sk-label-container\"><div class=\"sk-label sk-toggleable\"><input class=\"sk-toggleable__control sk-hidden--visually\" id=\"16c1d894-dcf5-4657-b0ed-4119a74a6c91\" type=\"checkbox\" ><label class=\"sk-toggleable__label\" for=\"16c1d894-dcf5-4657-b0ed-4119a74a6c91\">columntransformer: ColumnTransformer</label><div class=\"sk-toggleable__content\"><pre>ColumnTransformer(remainder='passthrough',\n",
       "                  transformers=[('simpleimputer', SimpleImputer(), ['Age'])])</pre></div></div></div><div class=\"sk-parallel\"><div class=\"sk-parallel-item\"><div class=\"sk-item\"><div class=\"sk-label-container\"><div class=\"sk-label sk-toggleable\"><input class=\"sk-toggleable__control sk-hidden--visually\" id=\"172009c8-084a-408f-aebe-d1cb016ddbe8\" type=\"checkbox\" ><label class=\"sk-toggleable__label\" for=\"172009c8-084a-408f-aebe-d1cb016ddbe8\">simpleimputer</label><div class=\"sk-toggleable__content\"><pre>['Age']</pre></div></div></div><div class=\"sk-serial\"><div class=\"sk-item\"><div class=\"sk-estimator sk-toggleable\"><input class=\"sk-toggleable__control sk-hidden--visually\" id=\"a670319d-cafe-400a-b562-00bc5705fe30\" type=\"checkbox\" ><label class=\"sk-toggleable__label\" for=\"a670319d-cafe-400a-b562-00bc5705fe30\">SimpleImputer</label><div class=\"sk-toggleable__content\"><pre>SimpleImputer()</pre></div></div></div></div></div></div></div></div><div class=\"sk-item\"><div class=\"sk-estimator sk-toggleable\"><input class=\"sk-toggleable__control sk-hidden--visually\" id=\"2a5f3a3c-e0aa-41f3-993c-8e4ed2c35b3e\" type=\"checkbox\" ><label class=\"sk-toggleable__label\" for=\"2a5f3a3c-e0aa-41f3-993c-8e4ed2c35b3e\">StandardScaler</label><div class=\"sk-toggleable__content\"><pre>StandardScaler()</pre></div></div></div></div></div></div></div></div><div class=\"sk-parallel-item\"><div class=\"sk-item\"><div class=\"sk-label-container\"><div class=\"sk-label sk-toggleable\"><input class=\"sk-toggleable__control sk-hidden--visually\" id=\"a598f85d-e79e-42d5-a4e9-fae9f19933c6\" type=\"checkbox\" ><label class=\"sk-toggleable__label\" for=\"a598f85d-e79e-42d5-a4e9-fae9f19933c6\">pipeline-2</label><div class=\"sk-toggleable__content\"><pre>['Pclass', 'Sex', 'SibSp', 'Parch', 'Ticket', 'Cabin', 'Embarked']</pre></div></div></div><div class=\"sk-serial\"><div class=\"sk-item\"><div class=\"sk-serial\"><div class=\"sk-item sk-dashed-wrapped\"><div class=\"sk-label-container\"><div class=\"sk-label sk-toggleable\"><input class=\"sk-toggleable__control sk-hidden--visually\" id=\"e2fcfc8d-f786-4997-aa2d-104ee3b72864\" type=\"checkbox\" ><label class=\"sk-toggleable__label\" for=\"e2fcfc8d-f786-4997-aa2d-104ee3b72864\">columntransformer: ColumnTransformer</label><div class=\"sk-toggleable__content\"><pre>ColumnTransformer(remainder='passthrough',\n",
       "                  transformers=[('simpleimputer-1',\n",
       "                                 SimpleImputer(fill_value='OTHER',\n",
       "                                               strategy='constant'),\n",
       "                                 ['Cabin']),\n",
       "                                ('simpleimputer-2',\n",
       "                                 SimpleImputer(fill_value='X',\n",
       "                                               strategy='constant'),\n",
       "                                 ['Embarked'])])</pre></div></div></div><div class=\"sk-parallel\"><div class=\"sk-parallel-item\"><div class=\"sk-item\"><div class=\"sk-label-container\"><div class=\"sk-label sk-toggleable\"><input class=\"sk-toggleable__control sk-hidden--visually\" id=\"25bbde38-3db3-4bed-b341-4effc9015c5e\" type=\"checkbox\" ><label class=\"sk-toggleable__label\" for=\"25bbde38-3db3-4bed-b341-4effc9015c5e\">simpleimputer-1</label><div class=\"sk-toggleable__content\"><pre>['Cabin']</pre></div></div></div><div class=\"sk-serial\"><div class=\"sk-item\"><div class=\"sk-estimator sk-toggleable\"><input class=\"sk-toggleable__control sk-hidden--visually\" id=\"17874a38-9e6b-4957-8fde-46d78c1ab82e\" type=\"checkbox\" ><label class=\"sk-toggleable__label\" for=\"17874a38-9e6b-4957-8fde-46d78c1ab82e\">SimpleImputer</label><div class=\"sk-toggleable__content\"><pre>SimpleImputer(fill_value='OTHER', strategy='constant')</pre></div></div></div></div></div></div><div class=\"sk-parallel-item\"><div class=\"sk-item\"><div class=\"sk-label-container\"><div class=\"sk-label sk-toggleable\"><input class=\"sk-toggleable__control sk-hidden--visually\" id=\"e9020243-88c0-4e75-bcda-014fe300b441\" type=\"checkbox\" ><label class=\"sk-toggleable__label\" for=\"e9020243-88c0-4e75-bcda-014fe300b441\">simpleimputer-2</label><div class=\"sk-toggleable__content\"><pre>['Embarked']</pre></div></div></div><div class=\"sk-serial\"><div class=\"sk-item\"><div class=\"sk-estimator sk-toggleable\"><input class=\"sk-toggleable__control sk-hidden--visually\" id=\"e2ac67ff-bff2-4823-a303-7199e79fc8c8\" type=\"checkbox\" ><label class=\"sk-toggleable__label\" for=\"e2ac67ff-bff2-4823-a303-7199e79fc8c8\">SimpleImputer</label><div class=\"sk-toggleable__content\"><pre>SimpleImputer(fill_value='X', strategy='constant')</pre></div></div></div></div></div></div></div></div><div class=\"sk-item\"><div class=\"sk-estimator sk-toggleable\"><input class=\"sk-toggleable__control sk-hidden--visually\" id=\"d5a66b9a-ebbf-4d35-b236-c0802d484554\" type=\"checkbox\" ><label class=\"sk-toggleable__label\" for=\"d5a66b9a-ebbf-4d35-b236-c0802d484554\">OneHotEncoder</label><div class=\"sk-toggleable__content\"><pre>OneHotEncoder(handle_unknown='ignore')</pre></div></div></div></div></div></div></div></div></div></div><div class=\"sk-item\"><div class=\"sk-estimator sk-toggleable\"><input class=\"sk-toggleable__control sk-hidden--visually\" id=\"5c545b0c-61c0-40b2-97b4-4080d902eb03\" type=\"checkbox\" ><label class=\"sk-toggleable__label\" for=\"5c545b0c-61c0-40b2-97b4-4080d902eb03\">KNeighborsClassifier</label><div class=\"sk-toggleable__content\"><pre>KNeighborsClassifier()</pre></div></div></div></div></div></div></div>"
      ],
      "text/plain": [
       "Pipeline(steps=[('preprocessing',\n",
       "                 ColumnTransformer(sparse_threshold=0,\n",
       "                                   transformers=[('pipeline-1',\n",
       "                                                  Pipeline(steps=[('columntransformer',\n",
       "                                                                   ColumnTransformer(remainder='passthrough',\n",
       "                                                                                     transformers=[('simpleimputer',\n",
       "                                                                                                    SimpleImputer(),\n",
       "                                                                                                    ['Age'])])),\n",
       "                                                                  ('standardscaler',\n",
       "                                                                   StandardScaler())]),\n",
       "                                                  ['Age', 'Fare']),\n",
       "                                                 ('pipeline-2',\n",
       "                                                  Pipeline(steps=[('columntransformer',\n",
       "                                                                   ColumnTra...hrough',\n",
       "                                                                                     transformers=[('simpleimputer-1',\n",
       "                                                                                                    SimpleImputer(fill_value='OTHER',\n",
       "                                                                                                                  strategy='constant'),\n",
       "                                                                                                    ['Cabin']),\n",
       "                                                                                                   ('simpleimputer-2',\n",
       "                                                                                                    SimpleImputer(fill_value='X',\n",
       "                                                                                                                  strategy='constant'),\n",
       "                                                                                                    ['Embarked'])])),\n",
       "                                                                  ('onehotencoder',\n",
       "                                                                   OneHotEncoder(handle_unknown='ignore'))]),\n",
       "                                                  ['Pclass', 'Sex', 'SibSp',\n",
       "                                                   'Parch', 'Ticket', 'Cabin',\n",
       "                                                   'Embarked'])])),\n",
       "                ('model', KNeighborsClassifier())])"
      ]
     },
     "execution_count": 66,
     "metadata": {},
     "output_type": "execute_result"
    }
   ],
   "source": [
    "model_pipeline.fit(X_train, y_train.values.ravel())"
   ]
  },
  {
   "cell_type": "code",
   "execution_count": 14,
   "metadata": {},
   "outputs": [
    {
     "data": {
      "text/html": [
       "<div>\n",
       "<style scoped>\n",
       "    .dataframe tbody tr th:only-of-type {\n",
       "        vertical-align: middle;\n",
       "    }\n",
       "\n",
       "    .dataframe tbody tr th {\n",
       "        vertical-align: top;\n",
       "    }\n",
       "\n",
       "    .dataframe thead th {\n",
       "        text-align: right;\n",
       "    }\n",
       "</style>\n",
       "<table border=\"1\" class=\"dataframe\">\n",
       "  <thead>\n",
       "    <tr style=\"text-align: right;\">\n",
       "      <th></th>\n",
       "      <th>Pclass</th>\n",
       "      <th>Sex</th>\n",
       "      <th>Age</th>\n",
       "      <th>SibSp</th>\n",
       "      <th>Parch</th>\n",
       "      <th>Ticket</th>\n",
       "      <th>Fare</th>\n",
       "      <th>Cabin</th>\n",
       "      <th>Embarked</th>\n",
       "    </tr>\n",
       "  </thead>\n",
       "  <tbody>\n",
       "    <tr>\n",
       "      <th>709</th>\n",
       "      <td>3</td>\n",
       "      <td>male</td>\n",
       "      <td>NaN</td>\n",
       "      <td>1</td>\n",
       "      <td>1</td>\n",
       "      <td>2661</td>\n",
       "      <td>15.2458</td>\n",
       "      <td>NaN</td>\n",
       "      <td>C</td>\n",
       "    </tr>\n",
       "    <tr>\n",
       "      <th>439</th>\n",
       "      <td>2</td>\n",
       "      <td>male</td>\n",
       "      <td>31.0</td>\n",
       "      <td>0</td>\n",
       "      <td>0</td>\n",
       "      <td>C.A. 18723</td>\n",
       "      <td>10.5000</td>\n",
       "      <td>NaN</td>\n",
       "      <td>S</td>\n",
       "    </tr>\n",
       "    <tr>\n",
       "      <th>840</th>\n",
       "      <td>3</td>\n",
       "      <td>male</td>\n",
       "      <td>20.0</td>\n",
       "      <td>0</td>\n",
       "      <td>0</td>\n",
       "      <td>SOTON/O2 3101287</td>\n",
       "      <td>7.9250</td>\n",
       "      <td>NaN</td>\n",
       "      <td>S</td>\n",
       "    </tr>\n",
       "    <tr>\n",
       "      <th>720</th>\n",
       "      <td>2</td>\n",
       "      <td>female</td>\n",
       "      <td>6.0</td>\n",
       "      <td>0</td>\n",
       "      <td>1</td>\n",
       "      <td>248727</td>\n",
       "      <td>33.0000</td>\n",
       "      <td>NaN</td>\n",
       "      <td>S</td>\n",
       "    </tr>\n",
       "    <tr>\n",
       "      <th>39</th>\n",
       "      <td>3</td>\n",
       "      <td>female</td>\n",
       "      <td>14.0</td>\n",
       "      <td>1</td>\n",
       "      <td>0</td>\n",
       "      <td>2651</td>\n",
       "      <td>11.2417</td>\n",
       "      <td>NaN</td>\n",
       "      <td>C</td>\n",
       "    </tr>\n",
       "  </tbody>\n",
       "</table>\n",
       "</div>"
      ],
      "text/plain": [
       "     Pclass     Sex   Age  SibSp  Parch            Ticket     Fare Cabin  \\\n",
       "709       3    male   NaN      1      1              2661  15.2458   NaN   \n",
       "439       2    male  31.0      0      0        C.A. 18723  10.5000   NaN   \n",
       "840       3    male  20.0      0      0  SOTON/O2 3101287   7.9250   NaN   \n",
       "720       2  female   6.0      0      1            248727  33.0000   NaN   \n",
       "39        3  female  14.0      1      0              2651  11.2417   NaN   \n",
       "\n",
       "    Embarked  \n",
       "709        C  \n",
       "439        S  \n",
       "840        S  \n",
       "720        S  \n",
       "39         C  "
      ]
     },
     "execution_count": 14,
     "metadata": {},
     "output_type": "execute_result"
    }
   ],
   "source": [
    "X_test.head()"
   ]
  },
  {
   "cell_type": "code",
   "execution_count": 17,
   "metadata": {},
   "outputs": [
    {
     "data": {
      "text/html": [
       "<div>\n",
       "<style scoped>\n",
       "    .dataframe tbody tr th:only-of-type {\n",
       "        vertical-align: middle;\n",
       "    }\n",
       "\n",
       "    .dataframe tbody tr th {\n",
       "        vertical-align: top;\n",
       "    }\n",
       "\n",
       "    .dataframe thead th {\n",
       "        text-align: right;\n",
       "    }\n",
       "</style>\n",
       "<table border=\"1\" class=\"dataframe\">\n",
       "  <thead>\n",
       "    <tr style=\"text-align: right;\">\n",
       "      <th></th>\n",
       "      <th>Survived</th>\n",
       "    </tr>\n",
       "  </thead>\n",
       "  <tbody>\n",
       "    <tr>\n",
       "      <th>709</th>\n",
       "      <td>1</td>\n",
       "    </tr>\n",
       "    <tr>\n",
       "      <th>439</th>\n",
       "      <td>0</td>\n",
       "    </tr>\n",
       "    <tr>\n",
       "      <th>840</th>\n",
       "      <td>0</td>\n",
       "    </tr>\n",
       "    <tr>\n",
       "      <th>720</th>\n",
       "      <td>1</td>\n",
       "    </tr>\n",
       "    <tr>\n",
       "      <th>39</th>\n",
       "      <td>1</td>\n",
       "    </tr>\n",
       "    <tr>\n",
       "      <th>290</th>\n",
       "      <td>1</td>\n",
       "    </tr>\n",
       "    <tr>\n",
       "      <th>300</th>\n",
       "      <td>1</td>\n",
       "    </tr>\n",
       "    <tr>\n",
       "      <th>333</th>\n",
       "      <td>0</td>\n",
       "    </tr>\n",
       "    <tr>\n",
       "      <th>208</th>\n",
       "      <td>1</td>\n",
       "    </tr>\n",
       "    <tr>\n",
       "      <th>136</th>\n",
       "      <td>1</td>\n",
       "    </tr>\n",
       "  </tbody>\n",
       "</table>\n",
       "</div>"
      ],
      "text/plain": [
       "     Survived\n",
       "709         1\n",
       "439         0\n",
       "840         0\n",
       "720         1\n",
       "39          1\n",
       "290         1\n",
       "300         1\n",
       "333         0\n",
       "208         1\n",
       "136         1"
      ]
     },
     "execution_count": 17,
     "metadata": {},
     "output_type": "execute_result"
    }
   ],
   "source": [
    "y_test.head(10)"
   ]
  },
  {
   "cell_type": "code",
   "execution_count": 67,
   "metadata": {},
   "outputs": [
    {
     "data": {
      "text/plain": [
       "array([0, 0, 0, 1, 1, 1, 1, 0, 1, 1, 0, 0, 0, 0, 0, 1, 0, 1, 0, 0, 0, 0,\n",
       "       0, 0, 0, 0, 0, 0, 0, 0, 0, 1, 0, 0, 0, 0, 0, 1, 0, 0, 0, 0, 0, 0,\n",
       "       1, 0, 0, 0, 0, 0, 1, 1, 0, 1, 0, 1, 0, 1, 1, 1, 0, 1, 1, 0, 0, 1,\n",
       "       0, 0, 0, 1, 1, 1, 0, 1, 0, 0, 1, 1, 1, 0, 0, 1, 1, 0, 0, 0, 1, 1,\n",
       "       0, 0, 0, 0, 0, 0, 0, 0, 0, 0, 1, 1, 0, 0, 1, 0, 0, 0, 1, 0, 0, 0,\n",
       "       1, 0, 1, 0, 0, 0, 0, 0, 1, 0, 0, 1, 1, 1, 0, 0, 1, 0, 1, 0, 1, 0,\n",
       "       0, 0, 0, 0, 1, 0, 0, 0, 0, 1, 0, 0, 0, 1, 0, 0, 1, 0, 0, 0, 0, 1,\n",
       "       0, 0, 1, 1, 1, 1, 0, 0, 0, 1, 0, 1, 0, 1, 0, 0, 0, 1, 0, 1, 0, 0,\n",
       "       0, 1, 1])"
      ]
     },
     "execution_count": 67,
     "metadata": {},
     "output_type": "execute_result"
    }
   ],
   "source": [
    "model_pipeline.predict(X_test)"
   ]
  },
  {
   "cell_type": "markdown",
   "metadata": {
    "colab_type": "text",
    "id": "FuUdLjX5T2F0"
   },
   "source": [
    "## Evaluation Metrics\n",
    "\n",
    " - Accuracy\n",
    " - Confusion Matrix\n",
    " - Precision\n",
    " - Recall\n",
    " - F1 score"
   ]
  },
  {
   "cell_type": "code",
   "execution_count": 68,
   "metadata": {
    "colab": {
     "base_uri": "https://localhost:8080/",
     "height": 34
    },
    "colab_type": "code",
    "id": "7Wfd74pD721x",
    "outputId": "d98d625f-5b8d-40b7-e26e-b7bc057f4b89"
   },
   "outputs": [
    {
     "data": {
      "text/plain": [
       "0.8044692737430168"
      ]
     },
     "execution_count": 68,
     "metadata": {},
     "output_type": "execute_result"
    }
   ],
   "source": [
    "# Accuracy\n",
    "model_pipeline.score(X_test, y_test)"
   ]
  },
  {
   "cell_type": "code",
   "execution_count": 69,
   "metadata": {
    "colab": {
     "base_uri": "https://localhost:8080/",
     "height": 34
    },
    "colab_type": "code",
    "id": "sYGqV3MHUzhW",
    "outputId": "a59fe9b2-3a8b-4faa-9f3d-5fe1111f7182"
   },
   "outputs": [
    {
     "data": {
      "text/plain": [
       "0.8044692737430168"
      ]
     },
     "execution_count": 69,
     "metadata": {},
     "output_type": "execute_result"
    }
   ],
   "source": [
    "from sklearn.metrics import accuracy_score\n",
    "accuracy_score(y_test, model_pipeline.predict(X_test))"
   ]
  },
  {
   "cell_type": "code",
   "execution_count": 70,
   "metadata": {},
   "outputs": [
    {
     "data": {
      "image/png": "[encoded data removed]",
      "text/plain": [
       "<Figure size 432x288 with 1 Axes>"
      ]
     },
     "metadata": {
      "needs_background": "light"
     },
     "output_type": "display_data"
    }
   ],
   "source": [
    "import matplotlib.pyplot as plt\n",
    "y_test.Survived.hist()\n",
    "plt.show()"
   ]
  },
  {
   "cell_type": "code",
   "execution_count": 23,
   "metadata": {},
   "outputs": [
    {
     "data": {
      "image/png": "[encoded data removed]",
      "text/plain": [
       "<Figure size 432x288 with 1 Axes>"
      ]
     },
     "metadata": {
      "needs_background": "light"
     },
     "output_type": "display_data"
    }
   ],
   "source": [
    "plt.hist(model_pipeline.predict(X_test))\n",
    "plt.show()"
   ]
  },
  {
   "cell_type": "code",
   "execution_count": 71,
   "metadata": {
    "colab": {
     "base_uri": "https://localhost:8080/",
     "height": 284
    },
    "colab_type": "code",
    "id": "N0ufu9t2U_rf",
    "outputId": "e5a07921-9f9c-4f5c-c9f9-4b2b3d5da579"
   },
   "outputs": [
    {
     "name": "stdout",
     "output_type": "stream",
     "text": [
      "[[94 11]\n",
      " [24 50]]\n"
     ]
    },
    {
     "data": {
      "text/plain": [
       "<matplotlib.axes._subplots.AxesSubplot at 0x122a2bc10>"
      ]
     },
     "execution_count": 71,
     "metadata": {},
     "output_type": "execute_result"
    },
    {
     "data": {
      "image/png": "[encoded data removed]",
      "text/plain": [
       "<Figure size 432x288 with 2 Axes>"
      ]
     },
     "metadata": {
      "needs_background": "light"
     },
     "output_type": "display_data"
    }
   ],
   "source": [
    "# Confusion matrix\n",
    "import seaborn as sns\n",
    "from sklearn.metrics import confusion_matrix\n",
    "\n",
    "cf_mat = confusion_matrix(y_test, model_pipeline.predict(X_test))\n",
    "print(cf_mat)\n",
    "sns.heatmap(cf_mat, annot=True)"
   ]
  },
  {
   "cell_type": "code",
   "execution_count": 25,
   "metadata": {},
   "outputs": [
    {
     "data": {
      "text/plain": [
       "0.4860335195530726"
      ]
     },
     "execution_count": 25,
     "metadata": {},
     "output_type": "execute_result"
    }
   ],
   "source": [
    "(67+20)/(67+20+85+7)"
   ]
  },
  {
   "cell_type": "code",
   "execution_count": 26,
   "metadata": {},
   "outputs": [
    {
     "data": {
      "text/plain": [
       "<matplotlib.axes._subplots.AxesSubplot at 0x122666690>"
      ]
     },
     "execution_count": 26,
     "metadata": {},
     "output_type": "execute_result"
    },
    {
     "data": {
      "image/png": "[encoded data removed]",
      "text/plain": [
       "<Figure size 432x288 with 1 Axes>"
      ]
     },
     "metadata": {
      "needs_background": "light"
     },
     "output_type": "display_data"
    }
   ],
   "source": [
    "y_train.Survived.hist()"
   ]
  },
  {
   "cell_type": "markdown",
   "metadata": {},
   "source": [
    "<img src=\"1200px-Precisionrecall.png\" width=\"400px\" />"
   ]
  },
  {
   "cell_type": "code",
   "execution_count": 72,
   "metadata": {
    "colab": {
     "base_uri": "https://localhost:8080/",
     "height": 34
    },
    "colab_type": "code",
    "id": "640RJZlIVeH6",
    "outputId": "59539462-13a3-433a-f149-981ff2565dc2"
   },
   "outputs": [
    {
     "data": {
      "text/plain": [
       "0.819672131147541"
      ]
     },
     "execution_count": 72,
     "metadata": {},
     "output_type": "execute_result"
    }
   ],
   "source": [
    "# Precision\n",
    "from sklearn.metrics import precision_score\n",
    "precision_score(y_test, model_pipeline.predict(X_test))"
   ]
  },
  {
   "cell_type": "code",
   "execution_count": 73,
   "metadata": {
    "colab": {
     "base_uri": "https://localhost:8080/",
     "height": 34
    },
    "colab_type": "code",
    "id": "c6Hc5jHcVlhp",
    "outputId": "09846d1d-6646-48df-9883-bff4d7b0e6a5"
   },
   "outputs": [
    {
     "data": {
      "text/plain": [
       "0.6756756756756757"
      ]
     },
     "execution_count": 73,
     "metadata": {},
     "output_type": "execute_result"
    }
   ],
   "source": [
    "# Recall\n",
    "from sklearn.metrics import recall_score\n",
    "recall_score(y_test, model_pipeline.predict(X_test))"
   ]
  },
  {
   "cell_type": "code",
   "execution_count": 74,
   "metadata": {
    "colab": {
     "base_uri": "https://localhost:8080/",
     "height": 34
    },
    "colab_type": "code",
    "id": "RXFvu9SWwTOo",
    "outputId": "eea7392f-0ae2-4c43-cca8-6d0ab1b55463"
   },
   "outputs": [
    {
     "data": {
      "text/plain": [
       "0.7407407407407408"
      ]
     },
     "execution_count": 74,
     "metadata": {},
     "output_type": "execute_result"
    }
   ],
   "source": [
    "# F1 score\n",
    "from sklearn.metrics import f1_score\n",
    "\n",
    "# f1 = (2*p*r)/(p+r)\n",
    "\n",
    "f1_score(y_test, model_pipeline.predict(X_test))"
   ]
  },
  {
   "cell_type": "markdown",
   "metadata": {
    "colab_type": "text",
    "id": "g0LQa00CjCk-"
   },
   "source": [
    "## Other models\n",
    "\n",
    " - Decision Tree/Random Forest\n",
    " - SVM\n",
    " - KNN\n",
    " - Logistic Regression"
   ]
  },
  {
   "cell_type": "code",
   "execution_count": 75,
   "metadata": {},
   "outputs": [],
   "source": [
    "from sklearn.linear_model import LogisticRegression\n",
    "\n",
    "logreg_pipeline = Pipeline([\n",
    "  ('preprocessing', preprocessing_pipeline),\n",
    "  ('model', LogisticRegression())\n",
    "])"
   ]
  },
  {
   "cell_type": "code",
   "execution_count": 76,
   "metadata": {},
   "outputs": [
    {
     "data": {
      "text/html": [
       "<style>div.sk-top-container {color: black;background-color: white;}div.sk-toggleable {background-color: white;}label.sk-toggleable__label {cursor: pointer;display: block;width: 100%;margin-bottom: 0;padding: 0.2em 0.3em;box-sizing: border-box;text-align: center;}div.sk-toggleable__content {max-height: 0;max-width: 0;overflow: hidden;text-align: left;background-color: #f0f8ff;}div.sk-toggleable__content pre {margin: 0.2em;color: black;border-radius: 0.25em;background-color: #f0f8ff;}input.sk-toggleable__control:checked~div.sk-toggleable__content {max-height: 200px;max-width: 100%;overflow: auto;}div.sk-estimator input.sk-toggleable__control:checked~label.sk-toggleable__label {background-color: #d4ebff;}div.sk-label input.sk-toggleable__control:checked~label.sk-toggleable__label {background-color: #d4ebff;}input.sk-hidden--visually {border: 0;clip: rect(1px 1px 1px 1px);clip: rect(1px, 1px, 1px, 1px);height: 1px;margin: -1px;overflow: hidden;padding: 0;position: absolute;width: 1px;}div.sk-estimator {font-family: monospace;background-color: #f0f8ff;margin: 0.25em 0.25em;border: 1px dotted black;border-radius: 0.25em;box-sizing: border-box;}div.sk-estimator:hover {background-color: #d4ebff;}div.sk-parallel-item::after {content: \"\";width: 100%;border-bottom: 1px solid gray;flex-grow: 1;}div.sk-label:hover label.sk-toggleable__label {background-color: #d4ebff;}div.sk-serial::before {content: \"\";position: absolute;border-left: 1px solid gray;box-sizing: border-box;top: 2em;bottom: 0;left: 50%;}div.sk-serial {display: flex;flex-direction: column;align-items: center;background-color: white;}div.sk-item {z-index: 1;}div.sk-parallel {display: flex;align-items: stretch;justify-content: center;background-color: white;}div.sk-parallel-item {display: flex;flex-direction: column;position: relative;background-color: white;}div.sk-parallel-item:first-child::after {align-self: flex-end;width: 50%;}div.sk-parallel-item:last-child::after {align-self: flex-start;width: 50%;}div.sk-parallel-item:only-child::after {width: 0;}div.sk-dashed-wrapped {border: 1px dashed gray;margin: 0.2em;box-sizing: border-box;padding-bottom: 0.1em;background-color: white;position: relative;}div.sk-label label {font-family: monospace;font-weight: bold;background-color: white;display: inline-block;line-height: 1.2em;}div.sk-label-container {position: relative;z-index: 2;text-align: center;}div.sk-container {display: inline-block;position: relative;}</style><div class=\"sk-top-container\"><div class=\"sk-container\"><div class=\"sk-item sk-dashed-wrapped\"><div class=\"sk-label-container\"><div class=\"sk-label sk-toggleable\"><input class=\"sk-toggleable__control sk-hidden--visually\" id=\"1096a578-2af9-4963-b13f-740200f4f072\" type=\"checkbox\" ><label class=\"sk-toggleable__label\" for=\"1096a578-2af9-4963-b13f-740200f4f072\">Pipeline</label><div class=\"sk-toggleable__content\"><pre>Pipeline(steps=[('preprocessing',\n",
       "                 ColumnTransformer(sparse_threshold=0,\n",
       "                                   transformers=[('pipeline-1',\n",
       "                                                  Pipeline(steps=[('columntransformer',\n",
       "                                                                   ColumnTransformer(remainder='passthrough',\n",
       "                                                                                     transformers=[('simpleimputer',\n",
       "                                                                                                    SimpleImputer(),\n",
       "                                                                                                    ['Age'])])),\n",
       "                                                                  ('standardscaler',\n",
       "                                                                   StandardScaler())]),\n",
       "                                                  ['Age', 'Fare']),\n",
       "                                                 ('pipeline-2',\n",
       "                                                  Pipeline(steps=[('columntransformer',\n",
       "                                                                   ColumnTra...sthrough',\n",
       "                                                                                     transformers=[('simpleimputer-1',\n",
       "                                                                                                    SimpleImputer(fill_value='OTHER',\n",
       "                                                                                                                  strategy='constant'),\n",
       "                                                                                                    ['Cabin']),\n",
       "                                                                                                   ('simpleimputer-2',\n",
       "                                                                                                    SimpleImputer(fill_value='X',\n",
       "                                                                                                                  strategy='constant'),\n",
       "                                                                                                    ['Embarked'])])),\n",
       "                                                                  ('onehotencoder',\n",
       "                                                                   OneHotEncoder(handle_unknown='ignore'))]),\n",
       "                                                  ['Pclass', 'Sex', 'SibSp',\n",
       "                                                   'Parch', 'Ticket', 'Cabin',\n",
       "                                                   'Embarked'])])),\n",
       "                ('model', LogisticRegression())])</pre></div></div></div><div class=\"sk-serial\"><div class=\"sk-item sk-dashed-wrapped\"><div class=\"sk-label-container\"><div class=\"sk-label sk-toggleable\"><input class=\"sk-toggleable__control sk-hidden--visually\" id=\"1a52cb52-c8f0-4673-ac18-7a2cfc19312e\" type=\"checkbox\" ><label class=\"sk-toggleable__label\" for=\"1a52cb52-c8f0-4673-ac18-7a2cfc19312e\">preprocessing: ColumnTransformer</label><div class=\"sk-toggleable__content\"><pre>ColumnTransformer(sparse_threshold=0,\n",
       "                  transformers=[('pipeline-1',\n",
       "                                 Pipeline(steps=[('columntransformer',\n",
       "                                                  ColumnTransformer(remainder='passthrough',\n",
       "                                                                    transformers=[('simpleimputer',\n",
       "                                                                                   SimpleImputer(),\n",
       "                                                                                   ['Age'])])),\n",
       "                                                 ('standardscaler',\n",
       "                                                  StandardScaler())]),\n",
       "                                 ['Age', 'Fare']),\n",
       "                                ('pipeline-2',\n",
       "                                 Pipeline(steps=[('columntransformer',\n",
       "                                                  ColumnTransformer(remainder='passthrough',\n",
       "                                                                    transformers=[('simpleimputer-1',\n",
       "                                                                                   SimpleImputer(fill_value='OTHER',\n",
       "                                                                                                 strategy='constant'),\n",
       "                                                                                   ['Cabin']),\n",
       "                                                                                  ('simpleimputer-2',\n",
       "                                                                                   SimpleImputer(fill_value='X',\n",
       "                                                                                                 strategy='constant'),\n",
       "                                                                                   ['Embarked'])])),\n",
       "                                                 ('onehotencoder',\n",
       "                                                  OneHotEncoder(handle_unknown='ignore'))]),\n",
       "                                 ['Pclass', 'Sex', 'SibSp', 'Parch', 'Ticket',\n",
       "                                  'Cabin', 'Embarked'])])</pre></div></div></div><div class=\"sk-parallel\"><div class=\"sk-parallel-item\"><div class=\"sk-item\"><div class=\"sk-label-container\"><div class=\"sk-label sk-toggleable\"><input class=\"sk-toggleable__control sk-hidden--visually\" id=\"a8b38c45-6d6f-4e9c-bad3-a46bcef9256e\" type=\"checkbox\" ><label class=\"sk-toggleable__label\" for=\"a8b38c45-6d6f-4e9c-bad3-a46bcef9256e\">pipeline-1</label><div class=\"sk-toggleable__content\"><pre>['Age', 'Fare']</pre></div></div></div><div class=\"sk-serial\"><div class=\"sk-item\"><div class=\"sk-serial\"><div class=\"sk-item sk-dashed-wrapped\"><div class=\"sk-label-container\"><div class=\"sk-label sk-toggleable\"><input class=\"sk-toggleable__control sk-hidden--visually\" id=\"283494bf-57b1-4ce6-969a-c15ea1bc10c9\" type=\"checkbox\" ><label class=\"sk-toggleable__label\" for=\"283494bf-57b1-4ce6-969a-c15ea1bc10c9\">columntransformer: ColumnTransformer</label><div class=\"sk-toggleable__content\"><pre>ColumnTransformer(remainder='passthrough',\n",
       "                  transformers=[('simpleimputer', SimpleImputer(), ['Age'])])</pre></div></div></div><div class=\"sk-parallel\"><div class=\"sk-parallel-item\"><div class=\"sk-item\"><div class=\"sk-label-container\"><div class=\"sk-label sk-toggleable\"><input class=\"sk-toggleable__control sk-hidden--visually\" id=\"e57bf353-26c5-45e0-bbdc-c43b2b03330c\" type=\"checkbox\" ><label class=\"sk-toggleable__label\" for=\"e57bf353-26c5-45e0-bbdc-c43b2b03330c\">simpleimputer</label><div class=\"sk-toggleable__content\"><pre>['Age']</pre></div></div></div><div class=\"sk-serial\"><div class=\"sk-item\"><div class=\"sk-estimator sk-toggleable\"><input class=\"sk-toggleable__control sk-hidden--visually\" id=\"1faa9630-f81a-4737-8078-372502c36e58\" type=\"checkbox\" ><label class=\"sk-toggleable__label\" for=\"1faa9630-f81a-4737-8078-372502c36e58\">SimpleImputer</label><div class=\"sk-toggleable__content\"><pre>SimpleImputer()</pre></div></div></div></div></div></div></div></div><div class=\"sk-item\"><div class=\"sk-estimator sk-toggleable\"><input class=\"sk-toggleable__control sk-hidden--visually\" id=\"a4649180-7a0e-4888-8ee2-a6206c8c4017\" type=\"checkbox\" ><label class=\"sk-toggleable__label\" for=\"a4649180-7a0e-4888-8ee2-a6206c8c4017\">StandardScaler</label><div class=\"sk-toggleable__content\"><pre>StandardScaler()</pre></div></div></div></div></div></div></div></div><div class=\"sk-parallel-item\"><div class=\"sk-item\"><div class=\"sk-label-container\"><div class=\"sk-label sk-toggleable\"><input class=\"sk-toggleable__control sk-hidden--visually\" id=\"7bc65b3f-5d63-4bdb-b697-b078cb99e7d7\" type=\"checkbox\" ><label class=\"sk-toggleable__label\" for=\"7bc65b3f-5d63-4bdb-b697-b078cb99e7d7\">pipeline-2</label><div class=\"sk-toggleable__content\"><pre>['Pclass', 'Sex', 'SibSp', 'Parch', 'Ticket', 'Cabin', 'Embarked']</pre></div></div></div><div class=\"sk-serial\"><div class=\"sk-item\"><div class=\"sk-serial\"><div class=\"sk-item sk-dashed-wrapped\"><div class=\"sk-label-container\"><div class=\"sk-label sk-toggleable\"><input class=\"sk-toggleable__control sk-hidden--visually\" id=\"9c52e5a6-8279-41f2-b2fd-0f8404f14b2c\" type=\"checkbox\" ><label class=\"sk-toggleable__label\" for=\"9c52e5a6-8279-41f2-b2fd-0f8404f14b2c\">columntransformer: ColumnTransformer</label><div class=\"sk-toggleable__content\"><pre>ColumnTransformer(remainder='passthrough',\n",
       "                  transformers=[('simpleimputer-1',\n",
       "                                 SimpleImputer(fill_value='OTHER',\n",
       "                                               strategy='constant'),\n",
       "                                 ['Cabin']),\n",
       "                                ('simpleimputer-2',\n",
       "                                 SimpleImputer(fill_value='X',\n",
       "                                               strategy='constant'),\n",
       "                                 ['Embarked'])])</pre></div></div></div><div class=\"sk-parallel\"><div class=\"sk-parallel-item\"><div class=\"sk-item\"><div class=\"sk-label-container\"><div class=\"sk-label sk-toggleable\"><input class=\"sk-toggleable__control sk-hidden--visually\" id=\"ef30573a-c8a4-493b-b2fb-b1f1ff49355b\" type=\"checkbox\" ><label class=\"sk-toggleable__label\" for=\"ef30573a-c8a4-493b-b2fb-b1f1ff49355b\">simpleimputer-1</label><div class=\"sk-toggleable__content\"><pre>['Cabin']</pre></div></div></div><div class=\"sk-serial\"><div class=\"sk-item\"><div class=\"sk-estimator sk-toggleable\"><input class=\"sk-toggleable__control sk-hidden--visually\" id=\"591a1852-9652-4cf5-9ba0-7b13dd662be9\" type=\"checkbox\" ><label class=\"sk-toggleable__label\" for=\"591a1852-9652-4cf5-9ba0-7b13dd662be9\">SimpleImputer</label><div class=\"sk-toggleable__content\"><pre>SimpleImputer(fill_value='OTHER', strategy='constant')</pre></div></div></div></div></div></div><div class=\"sk-parallel-item\"><div class=\"sk-item\"><div class=\"sk-label-container\"><div class=\"sk-label sk-toggleable\"><input class=\"sk-toggleable__control sk-hidden--visually\" id=\"5d5153c9-2a30-4835-92cd-ccf4a259f156\" type=\"checkbox\" ><label class=\"sk-toggleable__label\" for=\"5d5153c9-2a30-4835-92cd-ccf4a259f156\">simpleimputer-2</label><div class=\"sk-toggleable__content\"><pre>['Embarked']</pre></div></div></div><div class=\"sk-serial\"><div class=\"sk-item\"><div class=\"sk-estimator sk-toggleable\"><input class=\"sk-toggleable__control sk-hidden--visually\" id=\"5cb2f40c-280a-4950-a210-bfc4ccadcaf4\" type=\"checkbox\" ><label class=\"sk-toggleable__label\" for=\"5cb2f40c-280a-4950-a210-bfc4ccadcaf4\">SimpleImputer</label><div class=\"sk-toggleable__content\"><pre>SimpleImputer(fill_value='X', strategy='constant')</pre></div></div></div></div></div></div></div></div><div class=\"sk-item\"><div class=\"sk-estimator sk-toggleable\"><input class=\"sk-toggleable__control sk-hidden--visually\" id=\"15690394-4697-4d41-a269-188b3480ea0c\" type=\"checkbox\" ><label class=\"sk-toggleable__label\" for=\"15690394-4697-4d41-a269-188b3480ea0c\">OneHotEncoder</label><div class=\"sk-toggleable__content\"><pre>OneHotEncoder(handle_unknown='ignore')</pre></div></div></div></div></div></div></div></div></div></div><div class=\"sk-item\"><div class=\"sk-estimator sk-toggleable\"><input class=\"sk-toggleable__control sk-hidden--visually\" id=\"1b7d5299-b150-45d4-a7b4-2a17c51a0892\" type=\"checkbox\" ><label class=\"sk-toggleable__label\" for=\"1b7d5299-b150-45d4-a7b4-2a17c51a0892\">LogisticRegression</label><div class=\"sk-toggleable__content\"><pre>LogisticRegression()</pre></div></div></div></div></div></div></div>"
      ],
      "text/plain": [
       "Pipeline(steps=[('preprocessing',\n",
       "                 ColumnTransformer(sparse_threshold=0,\n",
       "                                   transformers=[('pipeline-1',\n",
       "                                                  Pipeline(steps=[('columntransformer',\n",
       "                                                                   ColumnTransformer(remainder='passthrough',\n",
       "                                                                                     transformers=[('simpleimputer',\n",
       "                                                                                                    SimpleImputer(),\n",
       "                                                                                                    ['Age'])])),\n",
       "                                                                  ('standardscaler',\n",
       "                                                                   StandardScaler())]),\n",
       "                                                  ['Age', 'Fare']),\n",
       "                                                 ('pipeline-2',\n",
       "                                                  Pipeline(steps=[('columntransformer',\n",
       "                                                                   ColumnTra...sthrough',\n",
       "                                                                                     transformers=[('simpleimputer-1',\n",
       "                                                                                                    SimpleImputer(fill_value='OTHER',\n",
       "                                                                                                                  strategy='constant'),\n",
       "                                                                                                    ['Cabin']),\n",
       "                                                                                                   ('simpleimputer-2',\n",
       "                                                                                                    SimpleImputer(fill_value='X',\n",
       "                                                                                                                  strategy='constant'),\n",
       "                                                                                                    ['Embarked'])])),\n",
       "                                                                  ('onehotencoder',\n",
       "                                                                   OneHotEncoder(handle_unknown='ignore'))]),\n",
       "                                                  ['Pclass', 'Sex', 'SibSp',\n",
       "                                                   'Parch', 'Ticket', 'Cabin',\n",
       "                                                   'Embarked'])])),\n",
       "                ('model', LogisticRegression())])"
      ]
     },
     "execution_count": 76,
     "metadata": {},
     "output_type": "execute_result"
    }
   ],
   "source": [
    "logreg_pipeline.fit(X_train, y_train.values.ravel())"
   ]
  },
  {
   "cell_type": "code",
   "execution_count": 77,
   "metadata": {},
   "outputs": [
    {
     "data": {
      "text/plain": [
       "array([-1.62516676, -1.35506147, -2.15266123,  2.35246655,  1.93992863,\n",
       "        1.32417782,  0.64894134, -2.71769984,  1.04096045,  2.35297939,\n",
       "       -0.3751281 , -2.84927605, -1.10642694, -1.92519674, -1.49291375,\n",
       "        3.01854037, -0.68782037,  0.64917426, -1.23154534, -1.1195462 ,\n",
       "       -2.26891085, -1.50920801,  0.5919126 , -2.14883799, -2.40917981,\n",
       "       -3.94815351, -1.16007784, -1.34770908, -3.7739079 ,  0.24753941,\n",
       "       -2.12370617,  0.50860137, -0.84636517,  0.29023968, -2.09421174,\n",
       "       -1.8209312 , -0.32728493,  0.64894134,  1.68347271, -2.42860248,\n",
       "       -1.60324069, -2.42073336, -2.42814898, -2.0709178 , -0.03299314,\n",
       "       -2.49770469, -2.12293417, -2.23596079, -2.27139831, -0.68982268,\n",
       "        1.98000464,  2.19475021, -4.14382131,  1.09110918, -3.1019045 ,\n",
       "        2.37037884, -1.3841024 ,  2.09701618,  1.27951398,  0.95421762,\n",
       "       -2.18214331,  2.35613452,  1.49338728, -1.38032839, -2.0709178 ,\n",
       "        1.35213943, -1.37829079, -2.41417669, -1.28576506,  2.49762617,\n",
       "        1.81747436,  3.43901303,  0.23455418,  2.99510463, -2.23999226,\n",
       "       -2.59900942,  0.6198669 ,  2.85406841,  1.16886352, -0.40784274,\n",
       "       -2.91355368,  2.54178759,  3.16787347, -2.07095456, -0.63462754,\n",
       "       -1.99628277,  3.11776315,  2.91744721, -1.70345416, -2.43050175,\n",
       "       -1.86582036, -1.06159817, -1.29498567, -2.07097897, -2.42860248,\n",
       "       -2.38519693, -0.86369586, -2.87831698,  2.2479277 , -2.35603365,\n",
       "       -2.38205358, -2.59062802,  3.87758818, -2.6779714 , -2.45722343,\n",
       "       -2.30242508,  1.32713833, -0.87023982, -2.43843857, -0.16907795,\n",
       "        2.39345408, -2.16916684,  3.78040385, -0.58670597,  0.17702632,\n",
       "       -2.25250554, -1.05860008,  0.04763344,  1.94246097, -0.70715547,\n",
       "       -1.07873773,  2.91630962,  1.65549244, -0.69834607, -2.29985105,\n",
       "       -1.01831644,  1.87185516,  0.13054192,  0.82637117, -2.18133455,\n",
       "        0.64932131, -1.62516676, -1.34234661,  1.36225637, -0.35830772,\n",
       "        1.24741916,  2.0748341 , -2.41447079, -2.79266466,  0.56383529,\n",
       "       -2.18020728,  0.91880985, -1.26058627, -1.48784027, -0.64518623,\n",
       "        1.6042631 , -1.31866814, -2.37149419,  3.26606596, -2.82023511,\n",
       "       -1.90626809, -2.27008723, -2.09495933,  0.4972603 , -2.42814898,\n",
       "       -2.43108994, -0.52117946,  0.64905163,  1.2610598 ,  0.76047811,\n",
       "       -1.73641832, -1.37849029, -1.58003655,  1.73923712, -2.06883472,\n",
       "       -0.53798762, -1.12273399,  2.3930497 , -2.21082898, -2.59084859,\n",
       "        0.68578752,  1.47582491, -0.58641188,  1.17834625, -2.06789119,\n",
       "       -1.91064277,  0.39570983,  1.77137076,  1.87344941])"
      ]
     },
     "execution_count": 77,
     "metadata": {},
     "output_type": "execute_result"
    }
   ],
   "source": [
    "logreg_pipeline.decision_function(X_test)"
   ]
  },
  {
   "cell_type": "code",
   "execution_count": 78,
   "metadata": {},
   "outputs": [
    {
     "data": {
      "text/plain": [
       "array([0, 0, 0, 1, 1, 1, 1, 0, 1, 1, 0, 0, 0, 0, 0, 1, 0, 1, 0, 0, 0, 0,\n",
       "       1, 0, 0, 0, 0, 0, 0, 1, 0, 1, 0, 1, 0, 0, 0, 1, 1, 0, 0, 0, 0, 0,\n",
       "       0, 0, 0, 0, 0, 0, 1, 1, 0, 1, 0, 1, 0, 1, 1, 1, 0, 1, 1, 0, 0, 1,\n",
       "       0, 0, 0, 1, 1, 1, 1, 1, 0, 0, 1, 1, 1, 0, 0, 1, 1, 0, 0, 0, 1, 1,\n",
       "       0, 0, 0, 0, 0, 0, 0, 0, 0, 0, 1, 0, 0, 0, 1, 0, 0, 0, 1, 0, 0, 0,\n",
       "       1, 0, 1, 0, 1, 0, 0, 1, 1, 0, 0, 1, 1, 0, 0, 0, 1, 1, 1, 0, 1, 0,\n",
       "       0, 1, 0, 1, 1, 0, 0, 1, 0, 1, 0, 0, 0, 1, 0, 0, 1, 0, 0, 0, 0, 1,\n",
       "       0, 0, 0, 1, 1, 1, 0, 0, 0, 1, 0, 0, 0, 1, 0, 0, 1, 1, 0, 1, 0, 0,\n",
       "       1, 1, 1])"
      ]
     },
     "execution_count": 78,
     "metadata": {},
     "output_type": "execute_result"
    }
   ],
   "source": [
    "logreg_pipeline.predict(X_test)"
   ]
  },
  {
   "cell_type": "code",
   "execution_count": 79,
   "metadata": {},
   "outputs": [
    {
     "name": "stdout",
     "output_type": "stream",
     "text": [
      "Accuracy: 0.8156424581005587\n",
      "Precision: 0.7971014492753623\n",
      "Recall: 0.7432432432432432\n",
      "f1: 0.7692307692307693\n"
     ]
    }
   ],
   "source": [
    "print(f'Accuracy: {accuracy_score(y_test, logreg_pipeline.predict(X_test))}')\n",
    "print(f'Precision: {precision_score(y_test, logreg_pipeline.predict(X_test))}')\n",
    "print(f'Recall: {recall_score(y_test, logreg_pipeline.predict(X_test))}')\n",
    "print(f'f1: {f1_score(y_test, logreg_pipeline.predict(X_test))}')"
   ]
  },
  {
   "cell_type": "markdown",
   "metadata": {
    "colab_type": "text",
    "id": "7V6127jnuSxN"
   },
   "source": [
    "## ROC AUC"
   ]
  },
  {
   "cell_type": "code",
   "execution_count": 80,
   "metadata": {
    "colab": {
     "base_uri": "https://localhost:8080/",
     "height": 265
    },
    "colab_type": "code",
    "id": "Dr038-0qk4Wc",
    "outputId": "803e2435-da0a-4b44-f52e-676f435328ae"
   },
   "outputs": [
    {
     "data": {
      "image/png": "[encoded data removed]",
      "text/plain": [
       "<Figure size 432x288 with 1 Axes>"
      ]
     },
     "metadata": {
      "needs_background": "light"
     },
     "output_type": "display_data"
    }
   ],
   "source": [
    "from sklearn.metrics import roc_curve\n",
    "import matplotlib.pyplot as plt\n",
    "\n",
    "# TPR = TP / (TP + FN)\n",
    "\n",
    "# FPR = FP / (FP + TN)\n",
    "\n",
    "fpr, tpr, _ = roc_curve(y_test, logreg_pipeline.decision_function(X_test))\n",
    "plt.plot(fpr, tpr)\n",
    "plt.xlabel(\"FPR\")\n",
    "plt.ylabel(\"TPR\")\n",
    "plt.show()"
   ]
  },
  {
   "cell_type": "code",
   "execution_count": 81,
   "metadata": {},
   "outputs": [
    {
     "name": "stdout",
     "output_type": "stream",
     "text": [
      "[0.         0.         0.         0.00952381 0.00952381 0.01904762\n",
      " 0.01904762 0.03809524 0.03809524 0.06666667 0.06666667 0.06666667\n",
      " 0.07619048 0.07619048 0.08571429 0.08571429 0.1047619  0.1047619\n",
      " 0.14285714 0.14285714 0.16190476 0.16190476 0.17142857 0.17142857\n",
      " 0.19047619 0.19047619 0.2        0.2        0.21904762 0.21904762\n",
      " 0.22857143 0.22857143 0.35238095 0.35238095 0.37142857 0.37142857\n",
      " 0.40952381 0.40952381 0.42857143 0.42857143 0.45714286 0.45714286\n",
      " 0.51428571 0.53333333 0.55238095 0.55238095 0.8        0.83809524\n",
      " 0.85714286 0.85714286 0.95238095 0.95238095 1.        ]\n",
      "[0.         0.01351351 0.37837838 0.37837838 0.48648649 0.48648649\n",
      " 0.55405405 0.55405405 0.59459459 0.59459459 0.64864865 0.67567568\n",
      " 0.67567568 0.68918919 0.68918919 0.72972973 0.72972973 0.74324324\n",
      " 0.74324324 0.78378378 0.78378378 0.7972973  0.7972973  0.82432432\n",
      " 0.82432432 0.83783784 0.83783784 0.85135135 0.85135135 0.86486486\n",
      " 0.86486486 0.87837838 0.87837838 0.89189189 0.89189189 0.90540541\n",
      " 0.90540541 0.91891892 0.91891892 0.94594595 0.94594595 0.95945946\n",
      " 0.95945946 0.95945946 0.95945946 0.97297297 0.97297297 0.97297297\n",
      " 0.97297297 0.98648649 0.98648649 1.         1.        ]\n",
      "[ 4.87758818  3.87758818  1.87185516  1.81747436  1.36225637  1.35213943\n",
      "  1.24741916  1.16886352  0.95421762  0.76047811  0.64905163  0.64894134\n",
      "  0.6198669   0.5919126   0.56383529  0.39570983  0.24753941  0.23455418\n",
      " -0.03299314 -0.35830772 -0.40784274 -0.52117946 -0.53798762 -0.58670597\n",
      " -0.64518623 -0.68782037 -0.68982268 -0.69834607 -0.84636517 -0.86369586\n",
      " -0.87023982 -1.01831644 -1.34234661 -1.34770908 -1.37829079 -1.37849029\n",
      " -1.49291375 -1.50920801 -1.60324069 -1.62516676 -1.8209312  -1.86582036\n",
      " -2.06883472 -2.0709178  -2.07097897 -2.09421174 -2.42073336 -2.42860248\n",
      " -2.43108994 -2.43843857 -2.84927605 -2.87831698 -4.14382131]\n"
     ]
    }
   ],
   "source": [
    "print(fpr)\n",
    "print(tpr)\n",
    "print(_)"
   ]
  },
  {
   "cell_type": "code",
   "execution_count": 82,
   "metadata": {
    "colab": {
     "base_uri": "https://localhost:8080/",
     "height": 34
    },
    "colab_type": "code",
    "id": "1ZskAkJbqfCt",
    "outputId": "a154867d-2adf-45b9-b0ae-0a7b3eab005c"
   },
   "outputs": [
    {
     "data": {
      "text/plain": [
       "0.8958815958815958"
      ]
     },
     "execution_count": 82,
     "metadata": {},
     "output_type": "execute_result"
    }
   ],
   "source": [
    "from sklearn.metrics import roc_auc_score\n",
    "\n",
    "roc_auc_score(y_test, logreg_pipeline.decision_function(X_test))"
   ]
  },
  {
   "cell_type": "code",
   "execution_count": 83,
   "metadata": {},
   "outputs": [
    {
     "data": {
      "text/plain": [
       "0.7692307692307693"
      ]
     },
     "execution_count": 83,
     "metadata": {},
     "output_type": "execute_result"
    }
   ],
   "source": [
    "f1_score(y_test, logreg_pipeline.predict(X_test))"
   ]
  }
 ],
 "metadata": {
  "colab": {
   "collapsed_sections": [],
   "name": "ML101 - Classification.ipynb",
   "provenance": [],
   "toc_visible": true
  },
  "kernelspec": {
   "display_name": "Python 3",
   "language": "python",
   "name": "python3"
  },
  "language_info": {
   "codemirror_mode": {
    "name": "ipython",
    "version": 3
   },
   "file_extension": ".py",
   "mimetype": "text/x-python",
   "name": "python",
   "nbconvert_exporter": "python",
   "pygments_lexer": "ipython3",
   "version": "3.7.6"
  }
 },
 "nbformat": 4,
 "nbformat_minor": 4
}
