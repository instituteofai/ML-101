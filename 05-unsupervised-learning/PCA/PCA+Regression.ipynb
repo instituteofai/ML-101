{
  "nbformat": 4,
  "nbformat_minor": 0,
  "metadata": {
    "colab": {
      "name": "PCA+Regression.ipynb",
      "provenance": []
    },
    "kernelspec": {
      "name": "python3",
      "display_name": "Python 3"
    }
  },
  "cells": [
    {
      "cell_type": "code",
      "metadata": {
        "id": "PjDuY3s1b7bG",
        "colab_type": "code",
        "colab": {}
      },
      "source": [
        "import pandas as pd\n",
        "df=pd.read_csv('https://raw.githubusercontent.com/instituteofai/ML-101/master/Datasets/cal_housing.csv')\n",
        "df.head()"
      ],
      "execution_count": null,
      "outputs": []
    },
    {
      "cell_type": "code",
      "metadata": {
        "id": "OXcy6cqp1r-9",
        "colab_type": "code",
        "colab": {}
      },
      "source": [
        "labels=df[['median_house_value']]\n",
        "features=df.drop(['median_house_value'],axis=1)"
      ],
      "execution_count": null,
      "outputs": []
    },
    {
      "cell_type": "code",
      "metadata": {
        "id": "hsz6ViLT17_Y",
        "colab_type": "code",
        "colab": {}
      },
      "source": [
        "features.head()"
      ],
      "execution_count": null,
      "outputs": []
    },
    {
      "cell_type": "code",
      "metadata": {
        "id": "5HZWu3gl1937",
        "colab_type": "code",
        "colab": {}
      },
      "source": [
        "labels.head()"
      ],
      "execution_count": null,
      "outputs": []
    },
    {
      "cell_type": "code",
      "metadata": {
        "id": "kFpdiibu1_6n",
        "colab_type": "code",
        "colab": {}
      },
      "source": [
        "from sklearn.model_selection import train_test_split\n",
        "X_train, X_test,y_train,y_test=train_test_split(features,labels,test_size=0.2,random_state=42)"
      ],
      "execution_count": null,
      "outputs": []
    },
    {
      "cell_type": "code",
      "metadata": {
        "id": "8zbQHIu42S-U",
        "colab_type": "code",
        "colab": {}
      },
      "source": [
        "from sklearn.pipeline import Pipeline\n",
        "from sklearn.impute import SimpleImputer\n",
        "from sklearn.preprocessing import StandardScaler,OneHotEncoder,LabelEncoder,OrdinalEncoder\n",
        "\n",
        "numeric_pipeline=Pipeline([\n",
        "                           ('median_imputer',SimpleImputer(strategy='median')),\n",
        "                           ('std_scaler',StandardScaler())\n",
        "])\n",
        "\n",
        "categorial_pipeline=Pipeline([\n",
        "                              ('one_hot_encoder',OneHotEncoder())\n",
        "])"
      ],
      "execution_count": null,
      "outputs": []
    },
    {
      "cell_type": "code",
      "metadata": {
        "id": "DYC-KPUl3Cqh",
        "colab_type": "code",
        "colab": {}
      },
      "source": [
        "from sklearn.compose import ColumnTransformer\n",
        "\n",
        "numeric_attributes=[\n",
        "                    'housing_median_age','total_rooms','total_bedrooms','population','households','median_income'\n",
        "]\n",
        "\n",
        "pipeline=ColumnTransformer([\n",
        "                            ('numerical_transformers',numeric_pipeline,numeric_attributes),\n",
        "                            ('categorical_transformers',categorial_pipeline,['ocean_proximity']),\n",
        "], remainder= 'passthrough'\n",
        ")"
      ],
      "execution_count": null,
      "outputs": []
    },
    {
      "cell_type": "code",
      "metadata": {
        "id": "ZkhXbjdn32vH",
        "colab_type": "code",
        "colab": {}
      },
      "source": [
        "pipeline.fit_transform(X_train)[0]"
      ],
      "execution_count": null,
      "outputs": []
    },
    {
      "cell_type": "code",
      "metadata": {
        "id": "TiOKbHRZ4ALh",
        "colab_type": "code",
        "colab": {}
      },
      "source": [
        "from sklearn.linear_model import LinearRegression\n",
        "from sklearn.decomposition import PCA\n",
        "\n",
        "pca = PCA(n_components=5)\n",
        "model_pipeline=Pipeline([\n",
        "                         ('preprocessing',pipeline),\n",
        "                         ('pca',pca),\n",
        "                         ('model',LinearRegression())\n",
        "])"
      ],
      "execution_count": null,
      "outputs": []
    },
    {
      "cell_type": "code",
      "metadata": {
        "id": "v-UNiXqP4Y0R",
        "colab_type": "code",
        "colab": {}
      },
      "source": [
        "model_pipeline.fit(X_train,y_train)"
      ],
      "execution_count": null,
      "outputs": []
    },
    {
      "cell_type": "code",
      "metadata": {
        "id": "AKkrETsS4hXt",
        "colab_type": "code",
        "colab": {}
      },
      "source": [
        "from sklearn.metrics import mean_squared_error,r2_score\n",
        "\n",
        "predictions=model_pipeline.predict(X_test)\n",
        "rmse=mean_squared_error(y_test,predictions,squared=False)\n",
        "r2=r2_score(y_test,predictions)\n",
        "\n",
        "print(f'rmse:{rmse}')\n",
        "print(f'R-squared:{r2}')"
      ],
      "execution_count": null,
      "outputs": []
    },
    {
      "cell_type": "code",
      "metadata": {
        "id": "nmOQ532b5D-O",
        "colab_type": "code",
        "colab": {}
      },
      "source": [
        ""
      ],
      "execution_count": null,
      "outputs": []
    }
  ]
}