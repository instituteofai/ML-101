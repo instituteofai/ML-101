{
  "nbformat": 4,
  "nbformat_minor": 0,
  "metadata": {
    "colab": {
      "name": "PCA Code-walkthrough.ipynb",
      "provenance": []
    },
    "kernelspec": {
      "name": "python3",
      "display_name": "Python 3"
    }
  },
  "cells": [
    {
      "cell_type": "code",
      "metadata": {
        "id": "9Y3HYnZfbzQb",
        "colab_type": "code",
        "colab": {}
      },
      "source": [
        "from sklearn.datasets import load_breast_cancer\n",
        "cancer = load_breast_cancer()"
      ],
      "execution_count": null,
      "outputs": []
    },
    {
      "cell_type": "code",
      "metadata": {
        "id": "51penDdVmM6t",
        "colab_type": "code",
        "colab": {}
      },
      "source": [
        "print(cancer.DESCR)"
      ],
      "execution_count": null,
      "outputs": []
    },
    {
      "cell_type": "code",
      "metadata": {
        "id": "Tg_1SdBImQ_B",
        "colab_type": "code",
        "colab": {}
      },
      "source": [
        "print(len(cancer.data[cancer.target==0]))"
      ],
      "execution_count": null,
      "outputs": []
    },
    {
      "cell_type": "code",
      "metadata": {
        "id": "ybJGwBYtm_3P",
        "colab_type": "code",
        "colab": {}
      },
      "source": [
        "import pandas as pd\n",
        "\n",
        "cancer_df = pd.DataFrame(cancer.data,columns=cancer.feature_names)"
      ],
      "execution_count": null,
      "outputs": []
    },
    {
      "cell_type": "code",
      "metadata": {
        "id": "92Wxf5yjnJhW",
        "colab_type": "code",
        "colab": {}
      },
      "source": [
        "cancer_df.describe()"
      ],
      "execution_count": null,
      "outputs": []
    },
    {
      "cell_type": "code",
      "metadata": {
        "id": "M8Xr2Iq-nfaA",
        "colab_type": "code",
        "colab": {}
      },
      "source": [
        "import numpy as np"
      ],
      "execution_count": null,
      "outputs": []
    },
    {
      "cell_type": "code",
      "metadata": {
        "id": "QB49Plbbn6XI",
        "colab_type": "code",
        "colab": {}
      },
      "source": [
        "import matplotlib.pyplot as plt\n",
        "\n",
        "fig,axes=plt.subplots(10,3, figsize=(12,9))\n",
        "maligant=cancer.data[cancer.target==0]\n",
        "benign=cancer.data[cancer.target==1]\n",
        "ax=axes.ravel()\n",
        "\n",
        "\n",
        "for i in range(30):\n",
        "  _,bins=np.histogram(cancer.data[:,i],bins=40)\n",
        "  ax[i].hist(maligant[:,i],bins=bins,color='r',alpha=.5)\n",
        "  ax[i].hist(benign[:,i],bins=bins,color='g',alpha=.3)\n",
        "  ax[i].set_title(cancer.feature_names[i],fontsize=9)\n",
        "  ax[i].axes.get_xaxis().set_visible(False)\n",
        "  ax[i].set_yticks(())\n",
        "\n",
        "ax[0].legend(['malignant','benign'],loc='best',fontsize=8)\n",
        "\n",
        "plt.tight_layout()\n",
        "\n",
        "plt.show()"
      ],
      "execution_count": null,
      "outputs": []
    },
    {
      "cell_type": "code",
      "metadata": {
        "id": "Jp3dBHtaoWXu",
        "colab_type": "code",
        "colab": {}
      },
      "source": [
        "plt.subplot(1,2,1)\n",
        "plt.scatter(cancer_df['worst symmetry'],cancer_df['worst texture'],s=cancer_df['worst area']*0.05,color='magenta',label='check',alpha=0.3)\n",
        "plt.xlabel('Worst Symmetry', fontsize=12)\n",
        "plt.ylabel('Worst Texture',fontsize=12)\n",
        "\n",
        "\n",
        "plt.subplot(1,2,2)\n",
        "plt.scatter(cancer_df['mean radius'],cancer_df['mean concave points'],s=cancer_df['mean area']*0.05,color='purple',label='check',alpha=0.3)\n",
        "plt.xlabel('mean radius', fontsize=12)\n",
        "plt.ylabel('mean concave points',fontsize=12)\n",
        "\n",
        "plt.tight_layout()\n",
        "plt.show()"
      ],
      "execution_count": null,
      "outputs": []
    },
    {
      "cell_type": "code",
      "metadata": {
        "id": "q0udFCA5r0_F",
        "colab_type": "code",
        "colab": {}
      },
      "source": [
        "from sklearn.preprocessing import StandardScaler\n",
        "\n",
        "scalar=StandardScaler()\n",
        "X_scaled=scalar.fit_transform(cancer.data)"
      ],
      "execution_count": null,
      "outputs": []
    },
    {
      "cell_type": "code",
      "metadata": {
        "id": "H_m-EIv-tekW",
        "colab_type": "code",
        "colab": {}
      },
      "source": [
        "print(np.mean(X_scaled),np.std(X_scaled))"
      ],
      "execution_count": null,
      "outputs": []
    },
    {
      "cell_type": "code",
      "metadata": {
        "id": "rwD6kwtztmbH",
        "colab_type": "code",
        "colab": {}
      },
      "source": [
        "from sklearn.decomposition import PCA\n",
        "\n",
        "pca=PCA(n_components=3)\n",
        "X_pca=pca.fit_transform(X_scaled)"
      ],
      "execution_count": null,
      "outputs": []
    },
    {
      "cell_type": "code",
      "metadata": {
        "id": "YI5_keIvuclt",
        "colab_type": "code",
        "colab": {}
      },
      "source": [
        "print('shape ', X_pca.shape)"
      ],
      "execution_count": null,
      "outputs": []
    },
    {
      "cell_type": "code",
      "metadata": {
        "id": "7xV-4HGPujwW",
        "colab_type": "code",
        "colab": {}
      },
      "source": [
        "X_pca[:10]"
      ],
      "execution_count": null,
      "outputs": []
    },
    {
      "cell_type": "code",
      "metadata": {
        "id": "Rr5Zb1I5uo5q",
        "colab_type": "code",
        "colab": {}
      },
      "source": [
        "print('Explained variation per principal component {}'.format(pca.explained_variance_ratio_))"
      ],
      "execution_count": null,
      "outputs": []
    },
    {
      "cell_type": "code",
      "metadata": {
        "id": "1Q1EMh6ZvUbV",
        "colab_type": "code",
        "colab": {}
      },
      "source": [
        "Xax=X_pca[:,0]\n",
        "Yax=X_pca[:,1]\n",
        "labels=cancer.target\n",
        "cdict={0:'red',1:'green'}\n",
        "labl={0:'Malignant',1:'Benign'}\n",
        "marker={0:'*',1:'o'}\n",
        "alpha={0:.3,1:0.5}\n",
        "\n",
        "fig,ax=plt.subplots(figsize=(7,5))\n",
        "fig.patch.set_facecolor('white')\n",
        "for l in np.unique(labels):\n",
        "  ix=np.where(labels==l)\n",
        "  ax.scatter(Xax[ix],Yax[ix],c=cdict[l],s=40, label=labl[l],marker=marker[l],alpha=alpha[l])\n",
        "\n",
        "plt.xlabel(\"PC 1\", fontsize=14)\n",
        "plt.ylabel(\"PC 2\", fontsize=14)\n",
        "\n",
        "plt.legend()\n",
        "plt.show()"
      ],
      "execution_count": null,
      "outputs": []
    },
    {
      "cell_type": "code",
      "metadata": {
        "id": "S9pL8-xlx1Tf",
        "colab_type": "code",
        "colab": {}
      },
      "source": [
        "plt.matshow(pca.components_,cmap='viridis')\n",
        "plt.yticks([0,1,2],['1 PC','2 PC','3 PC'], fontsize=10)\n",
        "plt.colorbar()\n",
        "plt.xticks(range(len(cancer.feature_names)),cancer.feature_names,rotation=65, ha='left')\n",
        "plt.tight_layout()\n",
        "plt.show()"
      ],
      "execution_count": null,
      "outputs": []
    },
    {
      "cell_type": "code",
      "metadata": {
        "id": "SspBzVLf0ZPb",
        "colab_type": "code",
        "colab": {}
      },
      "source": [
        ""
      ],
      "execution_count": null,
      "outputs": []
    }
  ]
}